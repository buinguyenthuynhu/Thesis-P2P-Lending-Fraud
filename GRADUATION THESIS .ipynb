{
 "cells": [
  {
   "cell_type": "code",
   "execution_count": 1,
   "metadata": {},
   "outputs": [],
   "source": [
    "import re\n",
    "import os\n",
    "\n",
    "import pandas as pd\n",
    "import numpy as np\n",
    "import seaborn as sns\n",
    "import matplotlib.pyplot as plt\n",
    "\n",
    "import warnings\n",
    "warnings.filterwarnings(\"ignore\")\n",
    "\n",
    "# \"magic\" command to make plots show up in the notebook\n",
    "%matplotlib inline \n"
   ]
  },
  {
   "cell_type": "code",
   "execution_count": 2,
   "metadata": {},
   "outputs": [],
   "source": [
    "# Import library\n",
    "from sklearn.metrics import classification_report, confusion_matrix, accuracy_score, plot_confusion_matrix"
   ]
  },
  {
   "cell_type": "markdown",
   "metadata": {},
   "source": [
    "# 1. Exploratory Data Analysis"
   ]
  },
  {
   "cell_type": "markdown",
   "metadata": {},
   "source": [
    "> Get an understanding for which variables are important, view summary statistics, and visualize the data"
   ]
  },
  {
   "cell_type": "code",
   "execution_count": 3,
   "metadata": {},
   "outputs": [],
   "source": [
    "data = pd.read_csv('LendingClub_data.csv')"
   ]
  },
  {
   "cell_type": "code",
   "execution_count": 4,
   "metadata": {
    "scrolled": false
   },
   "outputs": [
    {
     "name": "stdout",
     "output_type": "stream",
     "text": [
      "<class 'pandas.core.frame.DataFrame'>\n",
      "RangeIndex: 1345310 entries, 0 to 1345309\n",
      "Data columns (total 91 columns):\n",
      " #   Column                      Non-Null Count    Dtype  \n",
      "---  ------                      --------------    -----  \n",
      " 0   Unnamed: 0                  1345310 non-null  int64  \n",
      " 1   id                          1345310 non-null  int64  \n",
      " 2   loan_amnt                   1345310 non-null  float64\n",
      " 3   funded_amnt                 1345310 non-null  float64\n",
      " 4   funded_amnt_inv             1345310 non-null  float64\n",
      " 5   term                        1345310 non-null  object \n",
      " 6   int_rate                    1345310 non-null  float64\n",
      " 7   installment                 1345310 non-null  float64\n",
      " 8   grade                       1345310 non-null  object \n",
      " 9   sub_grade                   1345310 non-null  object \n",
      " 10  emp_title                   1259525 non-null  object \n",
      " 11  emp_length                  1266799 non-null  object \n",
      " 12  home_ownership              1345310 non-null  object \n",
      " 13  annual_inc                  1345310 non-null  float64\n",
      " 14  verification_status         1345310 non-null  object \n",
      " 15  issue_d                     1345310 non-null  object \n",
      " 16  loan_status                 1345310 non-null  object \n",
      " 17  pymnt_plan                  1345310 non-null  object \n",
      " 18  url                         1345310 non-null  object \n",
      " 19  purpose                     1345310 non-null  object \n",
      " 20  title                       1328651 non-null  object \n",
      " 21  zip_code                    1345309 non-null  object \n",
      " 22  addr_state                  1345310 non-null  object \n",
      " 23  dti                         1344936 non-null  float64\n",
      " 24  delinq_2yrs                 1345310 non-null  float64\n",
      " 25  earliest_cr_line            1345310 non-null  object \n",
      " 26  fico_range_low              1345310 non-null  float64\n",
      " 27  fico_range_high             1345310 non-null  float64\n",
      " 28  inq_last_6mths              1345309 non-null  float64\n",
      " 29  open_acc                    1345310 non-null  float64\n",
      " 30  pub_rec                     1345310 non-null  float64\n",
      " 31  revol_bal                   1345310 non-null  float64\n",
      " 32  revol_util                  1344453 non-null  float64\n",
      " 33  total_acc                   1345310 non-null  float64\n",
      " 34  initial_list_status         1345310 non-null  object \n",
      " 35  out_prncp                   1345310 non-null  float64\n",
      " 36  out_prncp_inv               1345310 non-null  float64\n",
      " 37  total_pymnt                 1345310 non-null  float64\n",
      " 38  total_pymnt_inv             1345310 non-null  float64\n",
      " 39  total_rec_prncp             1345310 non-null  float64\n",
      " 40  total_rec_int               1345310 non-null  float64\n",
      " 41  total_rec_late_fee          1345310 non-null  float64\n",
      " 42  recoveries                  1345310 non-null  float64\n",
      " 43  collection_recovery_fee     1345310 non-null  float64\n",
      " 44  last_pymnt_d                1342997 non-null  object \n",
      " 45  last_pymnt_amnt             1345310 non-null  float64\n",
      " 46  last_credit_pull_d          1345255 non-null  object \n",
      " 47  last_fico_range_high        1345310 non-null  float64\n",
      " 48  last_fico_range_low         1345310 non-null  float64\n",
      " 49  collections_12_mths_ex_med  1345254 non-null  float64\n",
      " 50  policy_code                 1345310 non-null  float64\n",
      " 51  application_type            1345310 non-null  object \n",
      " 52  acc_now_delinq              1345310 non-null  float64\n",
      " 53  tot_coll_amt                1277783 non-null  float64\n",
      " 54  tot_cur_bal                 1277783 non-null  float64\n",
      " 55  total_rev_hi_lim            1277783 non-null  float64\n",
      " 56  acc_open_past_24mths        1298029 non-null  float64\n",
      " 57  avg_cur_bal                 1277761 non-null  float64\n",
      " 58  bc_open_to_buy              1284167 non-null  float64\n",
      " 59  bc_util                     1283398 non-null  float64\n",
      " 60  chargeoff_within_12_mths    1345254 non-null  float64\n",
      " 61  delinq_amnt                 1345310 non-null  float64\n",
      " 62  mo_sin_old_il_acct          1239735 non-null  float64\n",
      " 63  mo_sin_old_rev_tl_op        1277782 non-null  float64\n",
      " 64  mo_sin_rcnt_rev_tl_op       1277782 non-null  float64\n",
      " 65  mo_sin_rcnt_tl              1277783 non-null  float64\n",
      " 66  mort_acc                    1298029 non-null  float64\n",
      " 67  mths_since_recent_bc        1285089 non-null  float64\n",
      " 68  mths_since_recent_inq       1171239 non-null  float64\n",
      " 69  num_accts_ever_120_pd       1277783 non-null  float64\n",
      " 70  num_actv_bc_tl              1277783 non-null  float64\n",
      " 71  num_actv_rev_tl             1277783 non-null  float64\n",
      " 72  num_bc_sats                 1289469 non-null  float64\n",
      " 73  num_bc_tl                   1277783 non-null  float64\n",
      " 74  num_il_tl                   1277783 non-null  float64\n",
      " 75  num_op_rev_tl               1277783 non-null  float64\n",
      " 76  num_rev_accts               1277782 non-null  float64\n",
      " 77  num_rev_tl_bal_gt_0         1277783 non-null  float64\n",
      " 78  num_sats                    1289469 non-null  float64\n",
      " 79  num_tl_120dpd_2m            1227909 non-null  float64\n",
      " 80  num_tl_30dpd                1277783 non-null  float64\n",
      " 81  num_tl_90g_dpd_24m          1277783 non-null  float64\n",
      " 82  num_tl_op_past_12m          1277783 non-null  float64\n",
      " 83  pct_tl_nvr_dlq              1277629 non-null  float64\n",
      " 84  percent_bc_gt_75            1283755 non-null  float64\n",
      " 85  pub_rec_bankruptcies        1344613 non-null  float64\n",
      " 86  tax_liens                   1345271 non-null  float64\n",
      " 87  tot_hi_cred_lim             1277783 non-null  float64\n",
      " 88  total_bal_ex_mort           1298029 non-null  float64\n",
      " 89  total_bc_limit              1298029 non-null  float64\n",
      " 90  total_il_high_credit_limit  1277783 non-null  float64\n",
      "dtypes: float64(69), int64(2), object(20)\n",
      "memory usage: 934.0+ MB\n"
     ]
    }
   ],
   "source": [
    "data.info()"
   ]
  },
  {
   "cell_type": "code",
   "execution_count": 5,
   "metadata": {},
   "outputs": [],
   "source": [
    "# print(f\"\\033[1m\\033[94mTotal null:\\n{55 * '-'}\")\n",
    "# print(f\"\\033[30m{data.isnull().sum()}\")\n",
    "# data.head()"
   ]
  },
  {
   "cell_type": "code",
   "execution_count": 6,
   "metadata": {
    "scrolled": false
   },
   "outputs": [
    {
     "data": {
      "text/html": [
       "<div>\n",
       "<style scoped>\n",
       "    .dataframe tbody tr th:only-of-type {\n",
       "        vertical-align: middle;\n",
       "    }\n",
       "\n",
       "    .dataframe tbody tr th {\n",
       "        vertical-align: top;\n",
       "    }\n",
       "\n",
       "    .dataframe thead th {\n",
       "        text-align: right;\n",
       "    }\n",
       "</style>\n",
       "<table border=\"1\" class=\"dataframe\">\n",
       "  <thead>\n",
       "    <tr style=\"text-align: right;\">\n",
       "      <th></th>\n",
       "      <th>Unnamed: 0</th>\n",
       "      <th>id</th>\n",
       "      <th>loan_amnt</th>\n",
       "      <th>funded_amnt</th>\n",
       "      <th>funded_amnt_inv</th>\n",
       "      <th>int_rate</th>\n",
       "      <th>installment</th>\n",
       "      <th>annual_inc</th>\n",
       "      <th>dti</th>\n",
       "      <th>delinq_2yrs</th>\n",
       "      <th>...</th>\n",
       "      <th>num_tl_90g_dpd_24m</th>\n",
       "      <th>num_tl_op_past_12m</th>\n",
       "      <th>pct_tl_nvr_dlq</th>\n",
       "      <th>percent_bc_gt_75</th>\n",
       "      <th>pub_rec_bankruptcies</th>\n",
       "      <th>tax_liens</th>\n",
       "      <th>tot_hi_cred_lim</th>\n",
       "      <th>total_bal_ex_mort</th>\n",
       "      <th>total_bc_limit</th>\n",
       "      <th>total_il_high_credit_limit</th>\n",
       "    </tr>\n",
       "  </thead>\n",
       "  <tbody>\n",
       "    <tr>\n",
       "      <th>count</th>\n",
       "      <td>1.345310e+06</td>\n",
       "      <td>1.345310e+06</td>\n",
       "      <td>1.345310e+06</td>\n",
       "      <td>1.345310e+06</td>\n",
       "      <td>1.345310e+06</td>\n",
       "      <td>1.345310e+06</td>\n",
       "      <td>1.345310e+06</td>\n",
       "      <td>1.345310e+06</td>\n",
       "      <td>1.344936e+06</td>\n",
       "      <td>1.345310e+06</td>\n",
       "      <td>...</td>\n",
       "      <td>1.277783e+06</td>\n",
       "      <td>1.277783e+06</td>\n",
       "      <td>1.277629e+06</td>\n",
       "      <td>1.283755e+06</td>\n",
       "      <td>1.344613e+06</td>\n",
       "      <td>1.345271e+06</td>\n",
       "      <td>1.277783e+06</td>\n",
       "      <td>1.298029e+06</td>\n",
       "      <td>1.298029e+06</td>\n",
       "      <td>1.277783e+06</td>\n",
       "    </tr>\n",
       "    <tr>\n",
       "      <th>mean</th>\n",
       "      <td>1.078824e+06</td>\n",
       "      <td>5.634499e+07</td>\n",
       "      <td>1.441997e+04</td>\n",
       "      <td>1.441156e+04</td>\n",
       "      <td>1.438914e+04</td>\n",
       "      <td>1.323962e+01</td>\n",
       "      <td>4.380755e+02</td>\n",
       "      <td>7.624764e+04</td>\n",
       "      <td>1.828267e+01</td>\n",
       "      <td>3.177944e-01</td>\n",
       "      <td>...</td>\n",
       "      <td>8.888364e-02</td>\n",
       "      <td>2.178887e+00</td>\n",
       "      <td>9.416467e+01</td>\n",
       "      <td>4.515598e+01</td>\n",
       "      <td>1.344439e-01</td>\n",
       "      <td>5.213002e-02</td>\n",
       "      <td>1.743878e+05</td>\n",
       "      <td>4.966635e+04</td>\n",
       "      <td>2.163400e+04</td>\n",
       "      <td>4.213319e+04</td>\n",
       "    </tr>\n",
       "    <tr>\n",
       "      <th>std</th>\n",
       "      <td>6.841849e+05</td>\n",
       "      <td>3.836114e+07</td>\n",
       "      <td>8.717051e+03</td>\n",
       "      <td>8.713118e+03</td>\n",
       "      <td>8.715494e+03</td>\n",
       "      <td>4.768716e+00</td>\n",
       "      <td>2.615126e+02</td>\n",
       "      <td>6.992510e+04</td>\n",
       "      <td>1.116045e+01</td>\n",
       "      <td>8.779922e-01</td>\n",
       "      <td>...</td>\n",
       "      <td>5.040854e-01</td>\n",
       "      <td>1.845039e+00</td>\n",
       "      <td>8.744124e+00</td>\n",
       "      <td>3.600723e+01</td>\n",
       "      <td>3.779285e-01</td>\n",
       "      <td>3.979113e-01</td>\n",
       "      <td>1.780961e+05</td>\n",
       "      <td>4.774363e+04</td>\n",
       "      <td>2.155478e+04</td>\n",
       "      <td>4.325213e+04</td>\n",
       "    </tr>\n",
       "    <tr>\n",
       "      <th>min</th>\n",
       "      <td>0.000000e+00</td>\n",
       "      <td>5.473400e+04</td>\n",
       "      <td>5.000000e+02</td>\n",
       "      <td>5.000000e+02</td>\n",
       "      <td>0.000000e+00</td>\n",
       "      <td>5.310000e+00</td>\n",
       "      <td>4.930000e+00</td>\n",
       "      <td>0.000000e+00</td>\n",
       "      <td>-1.000000e+00</td>\n",
       "      <td>0.000000e+00</td>\n",
       "      <td>...</td>\n",
       "      <td>0.000000e+00</td>\n",
       "      <td>0.000000e+00</td>\n",
       "      <td>0.000000e+00</td>\n",
       "      <td>0.000000e+00</td>\n",
       "      <td>0.000000e+00</td>\n",
       "      <td>0.000000e+00</td>\n",
       "      <td>0.000000e+00</td>\n",
       "      <td>0.000000e+00</td>\n",
       "      <td>0.000000e+00</td>\n",
       "      <td>0.000000e+00</td>\n",
       "    </tr>\n",
       "    <tr>\n",
       "      <th>25%</th>\n",
       "      <td>3.783052e+05</td>\n",
       "      <td>2.002774e+07</td>\n",
       "      <td>8.000000e+03</td>\n",
       "      <td>8.000000e+03</td>\n",
       "      <td>7.875000e+03</td>\n",
       "      <td>9.750000e+00</td>\n",
       "      <td>2.484800e+02</td>\n",
       "      <td>4.578000e+04</td>\n",
       "      <td>1.179000e+01</td>\n",
       "      <td>0.000000e+00</td>\n",
       "      <td>...</td>\n",
       "      <td>0.000000e+00</td>\n",
       "      <td>1.000000e+00</td>\n",
       "      <td>9.130000e+01</td>\n",
       "      <td>1.000000e+01</td>\n",
       "      <td>0.000000e+00</td>\n",
       "      <td>0.000000e+00</td>\n",
       "      <td>4.962050e+04</td>\n",
       "      <td>2.088600e+04</td>\n",
       "      <td>7.800000e+03</td>\n",
       "      <td>1.473800e+04</td>\n",
       "    </tr>\n",
       "    <tr>\n",
       "      <th>50%</th>\n",
       "      <td>1.118210e+06</td>\n",
       "      <td>5.773466e+07</td>\n",
       "      <td>1.200000e+04</td>\n",
       "      <td>1.200000e+04</td>\n",
       "      <td>1.200000e+04</td>\n",
       "      <td>1.274000e+01</td>\n",
       "      <td>3.754300e+02</td>\n",
       "      <td>6.500000e+04</td>\n",
       "      <td>1.761000e+01</td>\n",
       "      <td>0.000000e+00</td>\n",
       "      <td>...</td>\n",
       "      <td>0.000000e+00</td>\n",
       "      <td>2.000000e+00</td>\n",
       "      <td>9.800000e+01</td>\n",
       "      <td>4.290000e+01</td>\n",
       "      <td>0.000000e+00</td>\n",
       "      <td>0.000000e+00</td>\n",
       "      <td>1.123730e+05</td>\n",
       "      <td>3.729600e+04</td>\n",
       "      <td>1.510000e+04</td>\n",
       "      <td>3.168100e+04</td>\n",
       "    </tr>\n",
       "    <tr>\n",
       "      <th>75%</th>\n",
       "      <td>1.755354e+06</td>\n",
       "      <td>8.454605e+07</td>\n",
       "      <td>2.000000e+04</td>\n",
       "      <td>2.000000e+04</td>\n",
       "      <td>2.000000e+04</td>\n",
       "      <td>1.599000e+01</td>\n",
       "      <td>5.807300e+02</td>\n",
       "      <td>9.000000e+04</td>\n",
       "      <td>2.406000e+01</td>\n",
       "      <td>0.000000e+00</td>\n",
       "      <td>...</td>\n",
       "      <td>0.000000e+00</td>\n",
       "      <td>3.000000e+00</td>\n",
       "      <td>1.000000e+02</td>\n",
       "      <td>7.500000e+01</td>\n",
       "      <td>0.000000e+00</td>\n",
       "      <td>0.000000e+00</td>\n",
       "      <td>2.520760e+05</td>\n",
       "      <td>6.254800e+04</td>\n",
       "      <td>2.810000e+04</td>\n",
       "      <td>5.663500e+04</td>\n",
       "    </tr>\n",
       "    <tr>\n",
       "      <th>max</th>\n",
       "      <td>2.260697e+06</td>\n",
       "      <td>1.456364e+08</td>\n",
       "      <td>4.000000e+04</td>\n",
       "      <td>4.000000e+04</td>\n",
       "      <td>4.000000e+04</td>\n",
       "      <td>3.099000e+01</td>\n",
       "      <td>1.719830e+03</td>\n",
       "      <td>1.099920e+07</td>\n",
       "      <td>9.990000e+02</td>\n",
       "      <td>3.900000e+01</td>\n",
       "      <td>...</td>\n",
       "      <td>3.900000e+01</td>\n",
       "      <td>3.200000e+01</td>\n",
       "      <td>1.000000e+02</td>\n",
       "      <td>1.000000e+02</td>\n",
       "      <td>1.200000e+01</td>\n",
       "      <td>8.500000e+01</td>\n",
       "      <td>9.999999e+06</td>\n",
       "      <td>3.408095e+06</td>\n",
       "      <td>1.105500e+06</td>\n",
       "      <td>2.101913e+06</td>\n",
       "    </tr>\n",
       "  </tbody>\n",
       "</table>\n",
       "<p>8 rows × 71 columns</p>\n",
       "</div>"
      ],
      "text/plain": [
       "         Unnamed: 0            id     loan_amnt   funded_amnt  \\\n",
       "count  1.345310e+06  1.345310e+06  1.345310e+06  1.345310e+06   \n",
       "mean   1.078824e+06  5.634499e+07  1.441997e+04  1.441156e+04   \n",
       "std    6.841849e+05  3.836114e+07  8.717051e+03  8.713118e+03   \n",
       "min    0.000000e+00  5.473400e+04  5.000000e+02  5.000000e+02   \n",
       "25%    3.783052e+05  2.002774e+07  8.000000e+03  8.000000e+03   \n",
       "50%    1.118210e+06  5.773466e+07  1.200000e+04  1.200000e+04   \n",
       "75%    1.755354e+06  8.454605e+07  2.000000e+04  2.000000e+04   \n",
       "max    2.260697e+06  1.456364e+08  4.000000e+04  4.000000e+04   \n",
       "\n",
       "       funded_amnt_inv      int_rate   installment    annual_inc  \\\n",
       "count     1.345310e+06  1.345310e+06  1.345310e+06  1.345310e+06   \n",
       "mean      1.438914e+04  1.323962e+01  4.380755e+02  7.624764e+04   \n",
       "std       8.715494e+03  4.768716e+00  2.615126e+02  6.992510e+04   \n",
       "min       0.000000e+00  5.310000e+00  4.930000e+00  0.000000e+00   \n",
       "25%       7.875000e+03  9.750000e+00  2.484800e+02  4.578000e+04   \n",
       "50%       1.200000e+04  1.274000e+01  3.754300e+02  6.500000e+04   \n",
       "75%       2.000000e+04  1.599000e+01  5.807300e+02  9.000000e+04   \n",
       "max       4.000000e+04  3.099000e+01  1.719830e+03  1.099920e+07   \n",
       "\n",
       "                dti   delinq_2yrs  ...  num_tl_90g_dpd_24m  \\\n",
       "count  1.344936e+06  1.345310e+06  ...        1.277783e+06   \n",
       "mean   1.828267e+01  3.177944e-01  ...        8.888364e-02   \n",
       "std    1.116045e+01  8.779922e-01  ...        5.040854e-01   \n",
       "min   -1.000000e+00  0.000000e+00  ...        0.000000e+00   \n",
       "25%    1.179000e+01  0.000000e+00  ...        0.000000e+00   \n",
       "50%    1.761000e+01  0.000000e+00  ...        0.000000e+00   \n",
       "75%    2.406000e+01  0.000000e+00  ...        0.000000e+00   \n",
       "max    9.990000e+02  3.900000e+01  ...        3.900000e+01   \n",
       "\n",
       "       num_tl_op_past_12m  pct_tl_nvr_dlq  percent_bc_gt_75  \\\n",
       "count        1.277783e+06    1.277629e+06      1.283755e+06   \n",
       "mean         2.178887e+00    9.416467e+01      4.515598e+01   \n",
       "std          1.845039e+00    8.744124e+00      3.600723e+01   \n",
       "min          0.000000e+00    0.000000e+00      0.000000e+00   \n",
       "25%          1.000000e+00    9.130000e+01      1.000000e+01   \n",
       "50%          2.000000e+00    9.800000e+01      4.290000e+01   \n",
       "75%          3.000000e+00    1.000000e+02      7.500000e+01   \n",
       "max          3.200000e+01    1.000000e+02      1.000000e+02   \n",
       "\n",
       "       pub_rec_bankruptcies     tax_liens  tot_hi_cred_lim  total_bal_ex_mort  \\\n",
       "count          1.344613e+06  1.345271e+06     1.277783e+06       1.298029e+06   \n",
       "mean           1.344439e-01  5.213002e-02     1.743878e+05       4.966635e+04   \n",
       "std            3.779285e-01  3.979113e-01     1.780961e+05       4.774363e+04   \n",
       "min            0.000000e+00  0.000000e+00     0.000000e+00       0.000000e+00   \n",
       "25%            0.000000e+00  0.000000e+00     4.962050e+04       2.088600e+04   \n",
       "50%            0.000000e+00  0.000000e+00     1.123730e+05       3.729600e+04   \n",
       "75%            0.000000e+00  0.000000e+00     2.520760e+05       6.254800e+04   \n",
       "max            1.200000e+01  8.500000e+01     9.999999e+06       3.408095e+06   \n",
       "\n",
       "       total_bc_limit  total_il_high_credit_limit  \n",
       "count    1.298029e+06                1.277783e+06  \n",
       "mean     2.163400e+04                4.213319e+04  \n",
       "std      2.155478e+04                4.325213e+04  \n",
       "min      0.000000e+00                0.000000e+00  \n",
       "25%      7.800000e+03                1.473800e+04  \n",
       "50%      1.510000e+04                3.168100e+04  \n",
       "75%      2.810000e+04                5.663500e+04  \n",
       "max      1.105500e+06                2.101913e+06  \n",
       "\n",
       "[8 rows x 71 columns]"
      ]
     },
     "execution_count": 6,
     "metadata": {},
     "output_type": "execute_result"
    }
   ],
   "source": [
    "data.describe()"
   ]
  },
  {
   "cell_type": "code",
   "execution_count": 7,
   "metadata": {
    "scrolled": true
   },
   "outputs": [
    {
     "data": {
      "text/html": [
       "<div>\n",
       "<style scoped>\n",
       "    .dataframe tbody tr th:only-of-type {\n",
       "        vertical-align: middle;\n",
       "    }\n",
       "\n",
       "    .dataframe tbody tr th {\n",
       "        vertical-align: top;\n",
       "    }\n",
       "\n",
       "    .dataframe thead th {\n",
       "        text-align: right;\n",
       "    }\n",
       "</style>\n",
       "<table border=\"1\" class=\"dataframe\">\n",
       "  <thead>\n",
       "    <tr style=\"text-align: right;\">\n",
       "      <th></th>\n",
       "      <th>Unnamed: 0</th>\n",
       "      <th>id</th>\n",
       "      <th>loan_amnt</th>\n",
       "      <th>funded_amnt</th>\n",
       "      <th>funded_amnt_inv</th>\n",
       "      <th>term</th>\n",
       "      <th>int_rate</th>\n",
       "      <th>installment</th>\n",
       "      <th>grade</th>\n",
       "      <th>sub_grade</th>\n",
       "      <th>...</th>\n",
       "      <th>num_tl_90g_dpd_24m</th>\n",
       "      <th>num_tl_op_past_12m</th>\n",
       "      <th>pct_tl_nvr_dlq</th>\n",
       "      <th>percent_bc_gt_75</th>\n",
       "      <th>pub_rec_bankruptcies</th>\n",
       "      <th>tax_liens</th>\n",
       "      <th>tot_hi_cred_lim</th>\n",
       "      <th>total_bal_ex_mort</th>\n",
       "      <th>total_bc_limit</th>\n",
       "      <th>total_il_high_credit_limit</th>\n",
       "    </tr>\n",
       "  </thead>\n",
       "  <tbody>\n",
       "    <tr>\n",
       "      <th>2</th>\n",
       "      <td>2</td>\n",
       "      <td>68341763</td>\n",
       "      <td>20000.0</td>\n",
       "      <td>20000.0</td>\n",
       "      <td>20000.0</td>\n",
       "      <td>60 months</td>\n",
       "      <td>10.78</td>\n",
       "      <td>432.66</td>\n",
       "      <td>B</td>\n",
       "      <td>B4</td>\n",
       "      <td>...</td>\n",
       "      <td>0.0</td>\n",
       "      <td>0.0</td>\n",
       "      <td>100.0</td>\n",
       "      <td>50.0</td>\n",
       "      <td>0.0</td>\n",
       "      <td>0.0</td>\n",
       "      <td>218418.0</td>\n",
       "      <td>18696.0</td>\n",
       "      <td>6200.0</td>\n",
       "      <td>14877.0</td>\n",
       "    </tr>\n",
       "    <tr>\n",
       "      <th>4</th>\n",
       "      <td>5</td>\n",
       "      <td>68426831</td>\n",
       "      <td>11950.0</td>\n",
       "      <td>11950.0</td>\n",
       "      <td>11950.0</td>\n",
       "      <td>36 months</td>\n",
       "      <td>13.44</td>\n",
       "      <td>405.18</td>\n",
       "      <td>C</td>\n",
       "      <td>C3</td>\n",
       "      <td>...</td>\n",
       "      <td>0.0</td>\n",
       "      <td>0.0</td>\n",
       "      <td>100.0</td>\n",
       "      <td>100.0</td>\n",
       "      <td>0.0</td>\n",
       "      <td>0.0</td>\n",
       "      <td>16900.0</td>\n",
       "      <td>12798.0</td>\n",
       "      <td>9400.0</td>\n",
       "      <td>4000.0</td>\n",
       "    </tr>\n",
       "    <tr>\n",
       "      <th>9</th>\n",
       "      <td>12</td>\n",
       "      <td>68338832</td>\n",
       "      <td>1400.0</td>\n",
       "      <td>1400.0</td>\n",
       "      <td>1400.0</td>\n",
       "      <td>36 months</td>\n",
       "      <td>12.88</td>\n",
       "      <td>47.10</td>\n",
       "      <td>C</td>\n",
       "      <td>C2</td>\n",
       "      <td>...</td>\n",
       "      <td>0.0</td>\n",
       "      <td>1.0</td>\n",
       "      <td>100.0</td>\n",
       "      <td>75.0</td>\n",
       "      <td>0.0</td>\n",
       "      <td>0.0</td>\n",
       "      <td>372109.0</td>\n",
       "      <td>75258.0</td>\n",
       "      <td>34500.0</td>\n",
       "      <td>55501.0</td>\n",
       "    </tr>\n",
       "    <tr>\n",
       "      <th>11</th>\n",
       "      <td>14</td>\n",
       "      <td>68466961</td>\n",
       "      <td>28000.0</td>\n",
       "      <td>28000.0</td>\n",
       "      <td>28000.0</td>\n",
       "      <td>36 months</td>\n",
       "      <td>6.49</td>\n",
       "      <td>858.05</td>\n",
       "      <td>A</td>\n",
       "      <td>A2</td>\n",
       "      <td>...</td>\n",
       "      <td>0.0</td>\n",
       "      <td>0.0</td>\n",
       "      <td>91.7</td>\n",
       "      <td>22.2</td>\n",
       "      <td>0.0</td>\n",
       "      <td>0.0</td>\n",
       "      <td>304003.0</td>\n",
       "      <td>74920.0</td>\n",
       "      <td>41500.0</td>\n",
       "      <td>42503.0</td>\n",
       "    </tr>\n",
       "    <tr>\n",
       "      <th>15</th>\n",
       "      <td>19</td>\n",
       "      <td>68495092</td>\n",
       "      <td>8650.0</td>\n",
       "      <td>8650.0</td>\n",
       "      <td>8650.0</td>\n",
       "      <td>36 months</td>\n",
       "      <td>19.89</td>\n",
       "      <td>320.99</td>\n",
       "      <td>E</td>\n",
       "      <td>E3</td>\n",
       "      <td>...</td>\n",
       "      <td>0.0</td>\n",
       "      <td>12.0</td>\n",
       "      <td>100.0</td>\n",
       "      <td>50.0</td>\n",
       "      <td>1.0</td>\n",
       "      <td>0.0</td>\n",
       "      <td>38998.0</td>\n",
       "      <td>18926.0</td>\n",
       "      <td>2750.0</td>\n",
       "      <td>18248.0</td>\n",
       "    </tr>\n",
       "    <tr>\n",
       "      <th>...</th>\n",
       "      <td>...</td>\n",
       "      <td>...</td>\n",
       "      <td>...</td>\n",
       "      <td>...</td>\n",
       "      <td>...</td>\n",
       "      <td>...</td>\n",
       "      <td>...</td>\n",
       "      <td>...</td>\n",
       "      <td>...</td>\n",
       "      <td>...</td>\n",
       "      <td>...</td>\n",
       "      <td>...</td>\n",
       "      <td>...</td>\n",
       "      <td>...</td>\n",
       "      <td>...</td>\n",
       "      <td>...</td>\n",
       "      <td>...</td>\n",
       "      <td>...</td>\n",
       "      <td>...</td>\n",
       "      <td>...</td>\n",
       "      <td>...</td>\n",
       "    </tr>\n",
       "    <tr>\n",
       "      <th>1345259</th>\n",
       "      <td>2260595</td>\n",
       "      <td>90081014</td>\n",
       "      <td>12800.0</td>\n",
       "      <td>12800.0</td>\n",
       "      <td>12800.0</td>\n",
       "      <td>60 months</td>\n",
       "      <td>9.49</td>\n",
       "      <td>268.77</td>\n",
       "      <td>B</td>\n",
       "      <td>B2</td>\n",
       "      <td>...</td>\n",
       "      <td>0.0</td>\n",
       "      <td>2.0</td>\n",
       "      <td>94.1</td>\n",
       "      <td>16.7</td>\n",
       "      <td>0.0</td>\n",
       "      <td>0.0</td>\n",
       "      <td>232740.0</td>\n",
       "      <td>56544.0</td>\n",
       "      <td>35600.0</td>\n",
       "      <td>28000.0</td>\n",
       "    </tr>\n",
       "    <tr>\n",
       "      <th>1345272</th>\n",
       "      <td>2260623</td>\n",
       "      <td>90053125</td>\n",
       "      <td>27950.0</td>\n",
       "      <td>27950.0</td>\n",
       "      <td>27925.0</td>\n",
       "      <td>60 months</td>\n",
       "      <td>13.99</td>\n",
       "      <td>650.21</td>\n",
       "      <td>C</td>\n",
       "      <td>C3</td>\n",
       "      <td>...</td>\n",
       "      <td>0.0</td>\n",
       "      <td>0.0</td>\n",
       "      <td>100.0</td>\n",
       "      <td>33.3</td>\n",
       "      <td>0.0</td>\n",
       "      <td>0.0</td>\n",
       "      <td>402391.0</td>\n",
       "      <td>40723.0</td>\n",
       "      <td>40500.0</td>\n",
       "      <td>15582.0</td>\n",
       "    </tr>\n",
       "    <tr>\n",
       "      <th>1345296</th>\n",
       "      <td>2260672</td>\n",
       "      <td>89876723</td>\n",
       "      <td>38000.0</td>\n",
       "      <td>38000.0</td>\n",
       "      <td>38000.0</td>\n",
       "      <td>60 months</td>\n",
       "      <td>13.49</td>\n",
       "      <td>874.18</td>\n",
       "      <td>C</td>\n",
       "      <td>C2</td>\n",
       "      <td>...</td>\n",
       "      <td>0.0</td>\n",
       "      <td>1.0</td>\n",
       "      <td>78.3</td>\n",
       "      <td>33.3</td>\n",
       "      <td>0.0</td>\n",
       "      <td>0.0</td>\n",
       "      <td>332200.0</td>\n",
       "      <td>35020.0</td>\n",
       "      <td>72000.0</td>\n",
       "      <td>14400.0</td>\n",
       "    </tr>\n",
       "    <tr>\n",
       "      <th>1345303</th>\n",
       "      <td>2260685</td>\n",
       "      <td>89007204</td>\n",
       "      <td>36400.0</td>\n",
       "      <td>36400.0</td>\n",
       "      <td>36400.0</td>\n",
       "      <td>60 months</td>\n",
       "      <td>14.49</td>\n",
       "      <td>856.24</td>\n",
       "      <td>C</td>\n",
       "      <td>C4</td>\n",
       "      <td>...</td>\n",
       "      <td>0.0</td>\n",
       "      <td>2.0</td>\n",
       "      <td>100.0</td>\n",
       "      <td>75.0</td>\n",
       "      <td>0.0</td>\n",
       "      <td>0.0</td>\n",
       "      <td>529965.0</td>\n",
       "      <td>137277.0</td>\n",
       "      <td>43500.0</td>\n",
       "      <td>90665.0</td>\n",
       "    </tr>\n",
       "    <tr>\n",
       "      <th>1345305</th>\n",
       "      <td>2260688</td>\n",
       "      <td>89905081</td>\n",
       "      <td>18000.0</td>\n",
       "      <td>18000.0</td>\n",
       "      <td>18000.0</td>\n",
       "      <td>60 months</td>\n",
       "      <td>9.49</td>\n",
       "      <td>377.95</td>\n",
       "      <td>B</td>\n",
       "      <td>B2</td>\n",
       "      <td>...</td>\n",
       "      <td>0.0</td>\n",
       "      <td>0.0</td>\n",
       "      <td>100.0</td>\n",
       "      <td>33.3</td>\n",
       "      <td>0.0</td>\n",
       "      <td>0.0</td>\n",
       "      <td>275356.0</td>\n",
       "      <td>54349.0</td>\n",
       "      <td>13100.0</td>\n",
       "      <td>77756.0</td>\n",
       "    </tr>\n",
       "  </tbody>\n",
       "</table>\n",
       "<p>359297 rows × 91 columns</p>\n",
       "</div>"
      ],
      "text/plain": [
       "         Unnamed: 0        id  loan_amnt  funded_amnt  funded_amnt_inv  \\\n",
       "2                 2  68341763    20000.0      20000.0          20000.0   \n",
       "4                 5  68426831    11950.0      11950.0          11950.0   \n",
       "9                12  68338832     1400.0       1400.0           1400.0   \n",
       "11               14  68466961    28000.0      28000.0          28000.0   \n",
       "15               19  68495092     8650.0       8650.0           8650.0   \n",
       "...             ...       ...        ...          ...              ...   \n",
       "1345259     2260595  90081014    12800.0      12800.0          12800.0   \n",
       "1345272     2260623  90053125    27950.0      27950.0          27925.0   \n",
       "1345296     2260672  89876723    38000.0      38000.0          38000.0   \n",
       "1345303     2260685  89007204    36400.0      36400.0          36400.0   \n",
       "1345305     2260688  89905081    18000.0      18000.0          18000.0   \n",
       "\n",
       "               term  int_rate  installment grade sub_grade  ...  \\\n",
       "2         60 months     10.78       432.66     B        B4  ...   \n",
       "4         36 months     13.44       405.18     C        C3  ...   \n",
       "9         36 months     12.88        47.10     C        C2  ...   \n",
       "11        36 months      6.49       858.05     A        A2  ...   \n",
       "15        36 months     19.89       320.99     E        E3  ...   \n",
       "...             ...       ...          ...   ...       ...  ...   \n",
       "1345259   60 months      9.49       268.77     B        B2  ...   \n",
       "1345272   60 months     13.99       650.21     C        C3  ...   \n",
       "1345296   60 months     13.49       874.18     C        C2  ...   \n",
       "1345303   60 months     14.49       856.24     C        C4  ...   \n",
       "1345305   60 months      9.49       377.95     B        B2  ...   \n",
       "\n",
       "        num_tl_90g_dpd_24m num_tl_op_past_12m pct_tl_nvr_dlq  \\\n",
       "2                      0.0                0.0          100.0   \n",
       "4                      0.0                0.0          100.0   \n",
       "9                      0.0                1.0          100.0   \n",
       "11                     0.0                0.0           91.7   \n",
       "15                     0.0               12.0          100.0   \n",
       "...                    ...                ...            ...   \n",
       "1345259                0.0                2.0           94.1   \n",
       "1345272                0.0                0.0          100.0   \n",
       "1345296                0.0                1.0           78.3   \n",
       "1345303                0.0                2.0          100.0   \n",
       "1345305                0.0                0.0          100.0   \n",
       "\n",
       "         percent_bc_gt_75 pub_rec_bankruptcies tax_liens tot_hi_cred_lim  \\\n",
       "2                    50.0                  0.0       0.0        218418.0   \n",
       "4                   100.0                  0.0       0.0         16900.0   \n",
       "9                    75.0                  0.0       0.0        372109.0   \n",
       "11                   22.2                  0.0       0.0        304003.0   \n",
       "15                   50.0                  1.0       0.0         38998.0   \n",
       "...                   ...                  ...       ...             ...   \n",
       "1345259              16.7                  0.0       0.0        232740.0   \n",
       "1345272              33.3                  0.0       0.0        402391.0   \n",
       "1345296              33.3                  0.0       0.0        332200.0   \n",
       "1345303              75.0                  0.0       0.0        529965.0   \n",
       "1345305              33.3                  0.0       0.0        275356.0   \n",
       "\n",
       "        total_bal_ex_mort total_bc_limit total_il_high_credit_limit  \n",
       "2                 18696.0         6200.0                    14877.0  \n",
       "4                 12798.0         9400.0                     4000.0  \n",
       "9                 75258.0        34500.0                    55501.0  \n",
       "11                74920.0        41500.0                    42503.0  \n",
       "15                18926.0         2750.0                    18248.0  \n",
       "...                   ...            ...                        ...  \n",
       "1345259           56544.0        35600.0                    28000.0  \n",
       "1345272           40723.0        40500.0                    15582.0  \n",
       "1345296           35020.0        72000.0                    14400.0  \n",
       "1345303          137277.0        43500.0                    90665.0  \n",
       "1345305           54349.0        13100.0                    77756.0  \n",
       "\n",
       "[359297 rows x 91 columns]"
      ]
     },
     "execution_count": 7,
     "metadata": {},
     "output_type": "execute_result"
    }
   ],
   "source": [
    "data[data.isna().any(axis=1)]"
   ]
  },
  {
   "cell_type": "code",
   "execution_count": 8,
   "metadata": {},
   "outputs": [
    {
     "data": {
      "text/plain": [
       "Fully Paid     1076751\n",
       "Charged Off     268559\n",
       "Name: loan_status, dtype: int64"
      ]
     },
     "execution_count": 8,
     "metadata": {},
     "output_type": "execute_result"
    }
   ],
   "source": [
    "data.loan_status.value_counts()"
   ]
  },
  {
   "cell_type": "markdown",
   "metadata": {},
   "source": [
    "> Current status of the loan\n",
    "1: Charged Off\n",
    "0: Fully Paid"
   ]
  },
  {
   "cell_type": "code",
   "execution_count": 9,
   "metadata": {},
   "outputs": [
    {
     "data": {
      "text/html": [
       "<div>\n",
       "<style scoped>\n",
       "    .dataframe tbody tr th:only-of-type {\n",
       "        vertical-align: middle;\n",
       "    }\n",
       "\n",
       "    .dataframe tbody tr th {\n",
       "        vertical-align: top;\n",
       "    }\n",
       "\n",
       "    .dataframe thead th {\n",
       "        text-align: right;\n",
       "    }\n",
       "</style>\n",
       "<table border=\"1\" class=\"dataframe\">\n",
       "  <thead>\n",
       "    <tr style=\"text-align: right;\">\n",
       "      <th></th>\n",
       "      <th>loan_status</th>\n",
       "      <th>charged_off</th>\n",
       "    </tr>\n",
       "  </thead>\n",
       "  <tbody>\n",
       "    <tr>\n",
       "      <th>0</th>\n",
       "      <td>Fully Paid</td>\n",
       "      <td>0</td>\n",
       "    </tr>\n",
       "    <tr>\n",
       "      <th>1</th>\n",
       "      <td>Fully Paid</td>\n",
       "      <td>0</td>\n",
       "    </tr>\n",
       "    <tr>\n",
       "      <th>2</th>\n",
       "      <td>Fully Paid</td>\n",
       "      <td>0</td>\n",
       "    </tr>\n",
       "    <tr>\n",
       "      <th>3</th>\n",
       "      <td>Fully Paid</td>\n",
       "      <td>0</td>\n",
       "    </tr>\n",
       "    <tr>\n",
       "      <th>4</th>\n",
       "      <td>Fully Paid</td>\n",
       "      <td>0</td>\n",
       "    </tr>\n",
       "    <tr>\n",
       "      <th>5</th>\n",
       "      <td>Fully Paid</td>\n",
       "      <td>0</td>\n",
       "    </tr>\n",
       "    <tr>\n",
       "      <th>6</th>\n",
       "      <td>Fully Paid</td>\n",
       "      <td>0</td>\n",
       "    </tr>\n",
       "    <tr>\n",
       "      <th>7</th>\n",
       "      <td>Fully Paid</td>\n",
       "      <td>0</td>\n",
       "    </tr>\n",
       "    <tr>\n",
       "      <th>8</th>\n",
       "      <td>Fully Paid</td>\n",
       "      <td>0</td>\n",
       "    </tr>\n",
       "    <tr>\n",
       "      <th>9</th>\n",
       "      <td>Fully Paid</td>\n",
       "      <td>0</td>\n",
       "    </tr>\n",
       "  </tbody>\n",
       "</table>\n",
       "</div>"
      ],
      "text/plain": [
       "  loan_status  charged_off\n",
       "0  Fully Paid            0\n",
       "1  Fully Paid            0\n",
       "2  Fully Paid            0\n",
       "3  Fully Paid            0\n",
       "4  Fully Paid            0\n",
       "5  Fully Paid            0\n",
       "6  Fully Paid            0\n",
       "7  Fully Paid            0\n",
       "8  Fully Paid            0\n",
       "9  Fully Paid            0"
      ]
     },
     "execution_count": 9,
     "metadata": {},
     "output_type": "execute_result"
    }
   ],
   "source": [
    "data['charged_off'] = data.loan_status.map({'Fully Paid': 0, 'Charged Off': 1})\n",
    "data[['loan_status', 'charged_off']].head(10)"
   ]
  },
  {
   "cell_type": "code",
   "execution_count": 10,
   "metadata": {
    "scrolled": false
   },
   "outputs": [
    {
     "name": "stdout",
     "output_type": "stream",
     "text": [
      "Fully Paid = 1076751\n",
      "Not Fully Paid (Charged Off) = 268559\n",
      "% Charged Off/Fully Paid = 24.94%\n"
     ]
    },
    {
     "data": {
      "image/png": "[encoded data removed]",
      "text/plain": [
       "<Figure size 864x576 with 1 Axes>"
      ]
     },
     "metadata": {
      "needs_background": "light"
     },
     "output_type": "display_data"
    }
   ],
   "source": [
    "notPaid = data[data[\"charged_off\"] == 1].shape[0]\n",
    "fullPaid = data[data[\"charged_off\"] == 0].shape[0]\n",
    "\n",
    "print(f\"Fully Paid = {fullPaid}\");\n",
    "print(f\"Not Fully Paid (Charged Off) = {notPaid}\");\n",
    "print(f\"% Charged Off/Fully Paid = {(notPaid/fullPaid) * 100:.2f}%\");\n",
    "\n",
    "plt.figure(figsize=(12, 8));\n",
    "sns.countplot(data[\"charged_off\"]);\n",
    "plt.xticks((1, 0), [\"Charged Off\", \"Fully Paid\"]);\n",
    "plt.xlabel(\"\");\n",
    "plt.ylabel(\"Count\");\n",
    "plt.title(\"Loan Status Counts\", y=1, fontdict={\"fontsize\": 20});"
   ]
  },
  {
   "cell_type": "markdown",
   "metadata": {},
   "source": [
    "# 1.1 Correlation Matrix"
   ]
  },
  {
   "attachments": {
    "The-scale-of-Pearsons-Correlation-Coefficient.png": {
     "image/png": "[encoded data removed]"
    }
   },
   "cell_type": "markdown",
   "metadata": {},
   "source": [
    "![The-scale-of-Pearsons-Correlation-Coefficient.png](attachment:The-scale-of-Pearsons-Correlation-Coefficient.png)"
   ]
  },
  {
   "cell_type": "code",
   "execution_count": 11,
   "metadata": {},
   "outputs": [],
   "source": [
    "selected_features=['loan_amnt','term','int_rate','installment','grade','sub_grade','emp_title','emp_length','home_ownership',\n",
    "                   'annual_inc','verification_status','issue_d','purpose','title','dti','earliest_cr_line','inq_last_6mths',\n",
    "                   'open_acc','pub_rec','revol_bal','revol_util','total_acc','initial_list_status','application_type','mort_acc',\n",
    "                   'last_pymnt_amnt',\n",
    "                    'pub_rec_bankruptcies','addr_state','fico_range_low','fico_range_high','loan_status']"
   ]
  },
  {
   "cell_type": "code",
   "execution_count": 12,
   "metadata": {
    "scrolled": false
   },
   "outputs": [
    {
     "data": {
      "text/plain": [
       "31"
      ]
     },
     "execution_count": 12,
     "metadata": {},
     "output_type": "execute_result"
    }
   ],
   "source": [
    "len(selected_features)"
   ]
  },
  {
   "cell_type": "code",
   "execution_count": 13,
   "metadata": {
    "scrolled": true
   },
   "outputs": [
    {
     "data": {
      "text/html": [
       "<div>\n",
       "<style scoped>\n",
       "    .dataframe tbody tr th:only-of-type {\n",
       "        vertical-align: middle;\n",
       "    }\n",
       "\n",
       "    .dataframe tbody tr th {\n",
       "        vertical-align: top;\n",
       "    }\n",
       "\n",
       "    .dataframe thead th {\n",
       "        text-align: right;\n",
       "    }\n",
       "</style>\n",
       "<table border=\"1\" class=\"dataframe\">\n",
       "  <thead>\n",
       "    <tr style=\"text-align: right;\">\n",
       "      <th></th>\n",
       "      <th>loan_amnt</th>\n",
       "      <th>term</th>\n",
       "      <th>int_rate</th>\n",
       "      <th>installment</th>\n",
       "      <th>grade</th>\n",
       "      <th>sub_grade</th>\n",
       "      <th>emp_title</th>\n",
       "      <th>emp_length</th>\n",
       "      <th>home_ownership</th>\n",
       "      <th>annual_inc</th>\n",
       "      <th>...</th>\n",
       "      <th>open_acc</th>\n",
       "      <th>pub_rec</th>\n",
       "      <th>revol_bal</th>\n",
       "      <th>revol_util</th>\n",
       "      <th>total_acc</th>\n",
       "      <th>initial_list_status</th>\n",
       "      <th>last_pymnt_amnt</th>\n",
       "      <th>application_type</th>\n",
       "      <th>mort_acc</th>\n",
       "      <th>pub_rec_bankruptcies</th>\n",
       "    </tr>\n",
       "  </thead>\n",
       "  <tbody>\n",
       "    <tr>\n",
       "      <th>0</th>\n",
       "      <td>3600.0</td>\n",
       "      <td>36 months</td>\n",
       "      <td>13.99</td>\n",
       "      <td>123.03</td>\n",
       "      <td>C</td>\n",
       "      <td>C4</td>\n",
       "      <td>leadman</td>\n",
       "      <td>10+ years</td>\n",
       "      <td>MORTGAGE</td>\n",
       "      <td>55000.0</td>\n",
       "      <td>...</td>\n",
       "      <td>7.0</td>\n",
       "      <td>0.0</td>\n",
       "      <td>2765.0</td>\n",
       "      <td>29.7</td>\n",
       "      <td>13.0</td>\n",
       "      <td>w</td>\n",
       "      <td>122.67</td>\n",
       "      <td>Individual</td>\n",
       "      <td>1.0</td>\n",
       "      <td>0.0</td>\n",
       "    </tr>\n",
       "    <tr>\n",
       "      <th>1</th>\n",
       "      <td>24700.0</td>\n",
       "      <td>36 months</td>\n",
       "      <td>11.99</td>\n",
       "      <td>820.28</td>\n",
       "      <td>C</td>\n",
       "      <td>C1</td>\n",
       "      <td>Engineer</td>\n",
       "      <td>10+ years</td>\n",
       "      <td>MORTGAGE</td>\n",
       "      <td>65000.0</td>\n",
       "      <td>...</td>\n",
       "      <td>22.0</td>\n",
       "      <td>0.0</td>\n",
       "      <td>21470.0</td>\n",
       "      <td>19.2</td>\n",
       "      <td>38.0</td>\n",
       "      <td>w</td>\n",
       "      <td>926.35</td>\n",
       "      <td>Individual</td>\n",
       "      <td>4.0</td>\n",
       "      <td>0.0</td>\n",
       "    </tr>\n",
       "    <tr>\n",
       "      <th>2</th>\n",
       "      <td>20000.0</td>\n",
       "      <td>60 months</td>\n",
       "      <td>10.78</td>\n",
       "      <td>432.66</td>\n",
       "      <td>B</td>\n",
       "      <td>B4</td>\n",
       "      <td>truck driver</td>\n",
       "      <td>10+ years</td>\n",
       "      <td>MORTGAGE</td>\n",
       "      <td>63000.0</td>\n",
       "      <td>...</td>\n",
       "      <td>6.0</td>\n",
       "      <td>0.0</td>\n",
       "      <td>7869.0</td>\n",
       "      <td>56.2</td>\n",
       "      <td>18.0</td>\n",
       "      <td>w</td>\n",
       "      <td>15813.30</td>\n",
       "      <td>Joint App</td>\n",
       "      <td>5.0</td>\n",
       "      <td>0.0</td>\n",
       "    </tr>\n",
       "    <tr>\n",
       "      <th>3</th>\n",
       "      <td>10400.0</td>\n",
       "      <td>60 months</td>\n",
       "      <td>22.45</td>\n",
       "      <td>289.91</td>\n",
       "      <td>F</td>\n",
       "      <td>F1</td>\n",
       "      <td>Contract Specialist</td>\n",
       "      <td>3 years</td>\n",
       "      <td>MORTGAGE</td>\n",
       "      <td>104433.0</td>\n",
       "      <td>...</td>\n",
       "      <td>12.0</td>\n",
       "      <td>0.0</td>\n",
       "      <td>21929.0</td>\n",
       "      <td>64.5</td>\n",
       "      <td>35.0</td>\n",
       "      <td>w</td>\n",
       "      <td>10128.96</td>\n",
       "      <td>Individual</td>\n",
       "      <td>6.0</td>\n",
       "      <td>0.0</td>\n",
       "    </tr>\n",
       "    <tr>\n",
       "      <th>4</th>\n",
       "      <td>11950.0</td>\n",
       "      <td>36 months</td>\n",
       "      <td>13.44</td>\n",
       "      <td>405.18</td>\n",
       "      <td>C</td>\n",
       "      <td>C3</td>\n",
       "      <td>Veterinary Tecnician</td>\n",
       "      <td>4 years</td>\n",
       "      <td>RENT</td>\n",
       "      <td>34000.0</td>\n",
       "      <td>...</td>\n",
       "      <td>5.0</td>\n",
       "      <td>0.0</td>\n",
       "      <td>8822.0</td>\n",
       "      <td>68.4</td>\n",
       "      <td>6.0</td>\n",
       "      <td>w</td>\n",
       "      <td>7653.56</td>\n",
       "      <td>Individual</td>\n",
       "      <td>0.0</td>\n",
       "      <td>0.0</td>\n",
       "    </tr>\n",
       "  </tbody>\n",
       "</table>\n",
       "<p>5 rows × 31 columns</p>\n",
       "</div>"
      ],
      "text/plain": [
       "   loan_amnt        term  int_rate  installment grade sub_grade  \\\n",
       "0     3600.0   36 months     13.99       123.03     C        C4   \n",
       "1    24700.0   36 months     11.99       820.28     C        C1   \n",
       "2    20000.0   60 months     10.78       432.66     B        B4   \n",
       "3    10400.0   60 months     22.45       289.91     F        F1   \n",
       "4    11950.0   36 months     13.44       405.18     C        C3   \n",
       "\n",
       "              emp_title emp_length home_ownership  annual_inc  ... open_acc  \\\n",
       "0               leadman  10+ years       MORTGAGE     55000.0  ...      7.0   \n",
       "1              Engineer  10+ years       MORTGAGE     65000.0  ...     22.0   \n",
       "2          truck driver  10+ years       MORTGAGE     63000.0  ...      6.0   \n",
       "3   Contract Specialist    3 years       MORTGAGE    104433.0  ...     12.0   \n",
       "4  Veterinary Tecnician    4 years           RENT     34000.0  ...      5.0   \n",
       "\n",
       "  pub_rec revol_bal revol_util total_acc initial_list_status  last_pymnt_amnt  \\\n",
       "0     0.0    2765.0       29.7      13.0                   w           122.67   \n",
       "1     0.0   21470.0       19.2      38.0                   w           926.35   \n",
       "2     0.0    7869.0       56.2      18.0                   w         15813.30   \n",
       "3     0.0   21929.0       64.5      35.0                   w         10128.96   \n",
       "4     0.0    8822.0       68.4       6.0                   w          7653.56   \n",
       "\n",
       "  application_type  mort_acc  pub_rec_bankruptcies  \n",
       "0       Individual       1.0                   0.0  \n",
       "1       Individual       4.0                   0.0  \n",
       "2        Joint App       5.0                   0.0  \n",
       "3       Individual       6.0                   0.0  \n",
       "4       Individual       0.0                   0.0  \n",
       "\n",
       "[5 rows x 31 columns]"
      ]
     },
     "execution_count": 13,
     "metadata": {},
     "output_type": "execute_result"
    }
   ],
   "source": [
    "df = pd.read_csv('LendingClub_data.csv',usecols=selected_features, low_memory=False)\n",
    "df.head()"
   ]
  },
  {
   "cell_type": "code",
   "execution_count": 14,
   "metadata": {},
   "outputs": [
    {
     "data": {
      "text/html": [
       "<div>\n",
       "<style scoped>\n",
       "    .dataframe tbody tr th:only-of-type {\n",
       "        vertical-align: middle;\n",
       "    }\n",
       "\n",
       "    .dataframe tbody tr th {\n",
       "        vertical-align: top;\n",
       "    }\n",
       "\n",
       "    .dataframe thead th {\n",
       "        text-align: right;\n",
       "    }\n",
       "</style>\n",
       "<table border=\"1\" class=\"dataframe\">\n",
       "  <thead>\n",
       "    <tr style=\"text-align: right;\">\n",
       "      <th></th>\n",
       "      <th>loan_status</th>\n",
       "      <th>charged_off</th>\n",
       "    </tr>\n",
       "  </thead>\n",
       "  <tbody>\n",
       "    <tr>\n",
       "      <th>0</th>\n",
       "      <td>Fully Paid</td>\n",
       "      <td>0</td>\n",
       "    </tr>\n",
       "    <tr>\n",
       "      <th>1</th>\n",
       "      <td>Fully Paid</td>\n",
       "      <td>0</td>\n",
       "    </tr>\n",
       "    <tr>\n",
       "      <th>2</th>\n",
       "      <td>Fully Paid</td>\n",
       "      <td>0</td>\n",
       "    </tr>\n",
       "    <tr>\n",
       "      <th>3</th>\n",
       "      <td>Fully Paid</td>\n",
       "      <td>0</td>\n",
       "    </tr>\n",
       "    <tr>\n",
       "      <th>4</th>\n",
       "      <td>Fully Paid</td>\n",
       "      <td>0</td>\n",
       "    </tr>\n",
       "    <tr>\n",
       "      <th>5</th>\n",
       "      <td>Fully Paid</td>\n",
       "      <td>0</td>\n",
       "    </tr>\n",
       "    <tr>\n",
       "      <th>6</th>\n",
       "      <td>Fully Paid</td>\n",
       "      <td>0</td>\n",
       "    </tr>\n",
       "    <tr>\n",
       "      <th>7</th>\n",
       "      <td>Fully Paid</td>\n",
       "      <td>0</td>\n",
       "    </tr>\n",
       "    <tr>\n",
       "      <th>8</th>\n",
       "      <td>Fully Paid</td>\n",
       "      <td>0</td>\n",
       "    </tr>\n",
       "    <tr>\n",
       "      <th>9</th>\n",
       "      <td>Fully Paid</td>\n",
       "      <td>0</td>\n",
       "    </tr>\n",
       "  </tbody>\n",
       "</table>\n",
       "</div>"
      ],
      "text/plain": [
       "  loan_status  charged_off\n",
       "0  Fully Paid            0\n",
       "1  Fully Paid            0\n",
       "2  Fully Paid            0\n",
       "3  Fully Paid            0\n",
       "4  Fully Paid            0\n",
       "5  Fully Paid            0\n",
       "6  Fully Paid            0\n",
       "7  Fully Paid            0\n",
       "8  Fully Paid            0\n",
       "9  Fully Paid            0"
      ]
     },
     "execution_count": 14,
     "metadata": {},
     "output_type": "execute_result"
    }
   ],
   "source": [
    "df['charged_off'] = df.loan_status.map({'Fully Paid': 0, 'Charged Off': 1})\n",
    "df[['loan_status', 'charged_off']].head(10)"
   ]
  },
  {
   "cell_type": "code",
   "execution_count": 15,
   "metadata": {},
   "outputs": [
    {
     "name": "stdout",
     "output_type": "stream",
     "text": [
      "Fully Paid = 1076751\n",
      "Not Fully Paid (Charged Off) = 268559\n",
      "% Charged Off/Fully Paid = 24.94%\n"
     ]
    },
    {
     "data": {
      "image/png": "[encoded data removed]",
      "text/plain": [
       "<Figure size 864x576 with 1 Axes>"
      ]
     },
     "metadata": {
      "needs_background": "light"
     },
     "output_type": "display_data"
    }
   ],
   "source": [
    "notPaid = df[df[\"charged_off\"] == 1].shape[0]\n",
    "fullPaid = df[df[\"charged_off\"] == 0].shape[0]\n",
    "\n",
    "print(f\"Fully Paid = {fullPaid}\");\n",
    "print(f\"Not Fully Paid (Charged Off) = {notPaid}\");\n",
    "print(f\"% Charged Off/Fully Paid = {(notPaid/fullPaid) * 100:.2f}%\");\n",
    "\n",
    "plt.figure(figsize=(12, 8));\n",
    "sns.countplot(df[\"charged_off\"]);\n",
    "plt.xticks((1, 0), [\"Charged Off\", \"Fully Paid\"]);\n",
    "plt.xlabel(\"\");\n",
    "plt.ylabel(\"Count\");\n",
    "plt.title(\"Loan Status Counts\", y=1, fontdict={\"fontsize\": 20});"
   ]
  },
  {
   "cell_type": "code",
   "execution_count": 16,
   "metadata": {
    "scrolled": false
   },
   "outputs": [
    {
     "data": {
      "text/plain": [
       "Text(0.5, 1.0, 'Feature Correlation')"
      ]
     },
     "execution_count": 16,
     "metadata": {},
     "output_type": "execute_result"
    },
    {
     "data": {
      "image/png": "[encoded data removed]",
      "text/plain": [
       "<Figure size 864x648 with 2 Axes>"
      ]
     },
     "metadata": {
      "needs_background": "light"
     },
     "output_type": "display_data"
    }
   ],
   "source": [
    "plt.figure(figsize=(12,9))\n",
    "df_corr = df.corr()\n",
    "sns.heatmap(df_corr, annot=True, cmap='viridis')\n",
    "plt.title('Feature Correlation')"
   ]
  },
  {
   "cell_type": "code",
   "execution_count": 17,
   "metadata": {},
   "outputs": [
    {
     "data": {
      "text/plain": [
       "Text(0.5, 1.0, 'installment / loan_amnt corr')"
      ]
     },
     "execution_count": 17,
     "metadata": {},
     "output_type": "execute_result"
    },
    {
     "data": {
      "image/png": "[encoded data removed]",
      "text/plain": [
       "<Figure size 432x288 with 1 Axes>"
      ]
     },
     "metadata": {
      "needs_background": "light"
     },
     "output_type": "display_data"
    }
   ],
   "source": [
    "sns.scatterplot(data = df, x = 'installment', y = 'loan_amnt')\n",
    "plt.title('installment / loan_amnt corr')"
   ]
  },
  {
   "cell_type": "code",
   "execution_count": 18,
   "metadata": {},
   "outputs": [],
   "source": [
    "df.drop(['installment',\n",
    "        'total_acc',\n",
    "        'pub_rec'],\n",
    "        axis=1,\n",
    "       inplace=True)"
   ]
  },
  {
   "cell_type": "code",
   "execution_count": 19,
   "metadata": {
    "scrolled": true
   },
   "outputs": [
    {
     "data": {
      "text/plain": [
       "(1345310, 29)"
      ]
     },
     "execution_count": 19,
     "metadata": {},
     "output_type": "execute_result"
    }
   ],
   "source": [
    "df.shape"
   ]
  },
  {
   "cell_type": "code",
   "execution_count": 20,
   "metadata": {
    "scrolled": true
   },
   "outputs": [
    {
     "data": {
      "text/plain": [
       "Text(0.5, 1.0, 'Boxplot Charged Off / Loan Amount')"
      ]
     },
     "execution_count": 20,
     "metadata": {},
     "output_type": "execute_result"
    },
    {
     "data": {
      "image/png": "[encoded data removed]",
      "text/plain": [
       "<Figure size 432x288 with 1 Axes>"
      ]
     },
     "metadata": {
      "needs_background": "light"
     },
     "output_type": "display_data"
    }
   ],
   "source": [
    "sns.boxplot(data = df, x = 'charged_off', y = 'loan_amnt')\n",
    "plt.title('Boxplot Charged Off / Loan Amount')"
   ]
  },
  {
   "cell_type": "code",
   "execution_count": 21,
   "metadata": {},
   "outputs": [
    {
     "data": {
      "text/plain": [
       "array(['C', 'B', 'F', 'A', 'E', 'D', 'G'], dtype=object)"
      ]
     },
     "execution_count": 21,
     "metadata": {},
     "output_type": "execute_result"
    }
   ],
   "source": [
    "df.grade.unique()"
   ]
  },
  {
   "cell_type": "code",
   "execution_count": 22,
   "metadata": {
    "scrolled": true
   },
   "outputs": [
    {
     "data": {
      "image/png": "[encoded data removed]",
      "text/plain": [
       "<Figure size 864x288 with 1 Axes>"
      ]
     },
     "metadata": {
      "needs_background": "light"
     },
     "output_type": "display_data"
    }
   ],
   "source": [
    "plt.figure(figsize=(12,4))\n",
    "subgrade_order = sorted(df['sub_grade'].unique())\n",
    "sns.countplot(x='sub_grade',data=df,order = subgrade_order,palette='coolwarm')\n",
    "plt.title('Subgrade Distribution');"
   ]
  },
  {
   "cell_type": "code",
   "execution_count": 23,
   "metadata": {
    "scrolled": false
   },
   "outputs": [
    {
     "data": {
      "image/png": "[encoded data removed]",
      "text/plain": [
       "<Figure size 864x288 with 1 Axes>"
      ]
     },
     "metadata": {
      "needs_background": "light"
     },
     "output_type": "display_data"
    }
   ],
   "source": [
    "plt.figure(figsize=(12,4))\n",
    "subgrade_order = sorted(df['sub_grade'].unique())\n",
    "sns.countplot(x='sub_grade',data=df,order = subgrade_order,palette='coolwarm', hue='charged_off' )\n",
    "plt.title('Subgrade Distribution by Charged_Off');"
   ]
  },
  {
   "cell_type": "code",
   "execution_count": 24,
   "metadata": {},
   "outputs": [],
   "source": [
    "df.drop('loan_status', axis=1, inplace=True)"
   ]
  },
  {
   "cell_type": "code",
   "execution_count": 25,
   "metadata": {},
   "outputs": [
    {
     "data": {
      "text/plain": [
       "loan_amnt               0.000000\n",
       "term                    0.000000\n",
       "int_rate                0.000000\n",
       "grade                   0.000000\n",
       "sub_grade               0.000000\n",
       "emp_title               6.376597\n",
       "emp_length              5.835904\n",
       "home_ownership          0.000000\n",
       "annual_inc              0.000000\n",
       "verification_status     0.000000\n",
       "issue_d                 0.000000\n",
       "purpose                 0.000000\n",
       "title                   1.238302\n",
       "addr_state              0.000000\n",
       "dti                     0.027800\n",
       "earliest_cr_line        0.000000\n",
       "fico_range_low          0.000000\n",
       "fico_range_high         0.000000\n",
       "inq_last_6mths          0.000074\n",
       "open_acc                0.000000\n",
       "revol_bal               0.000000\n",
       "revol_util              0.063703\n",
       "initial_list_status     0.000000\n",
       "last_pymnt_amnt         0.000000\n",
       "application_type        0.000000\n",
       "mort_acc                3.514506\n",
       "pub_rec_bankruptcies    0.051810\n",
       "charged_off             0.000000\n",
       "dtype: float64"
      ]
     },
     "execution_count": 25,
     "metadata": {},
     "output_type": "execute_result"
    }
   ],
   "source": [
    "df.isnull().sum()/len(df)*100"
   ]
  },
  {
   "cell_type": "code",
   "execution_count": 26,
   "metadata": {
    "scrolled": true
   },
   "outputs": [
    {
     "data": {
      "text/plain": [
       "Teacher                     21268\n",
       "Manager                     19470\n",
       "Owner                       10302\n",
       "Registered Nurse             8774\n",
       "RN                           8522\n",
       "                            ...  \n",
       "Senior DW Engineer              1\n",
       "Maturnity Nurse Manager         1\n",
       "metrocast communications        1\n",
       "Broker in charge                1\n",
       "English Advisor                 1\n",
       "Name: emp_title, Length: 378353, dtype: int64"
      ]
     },
     "execution_count": 26,
     "metadata": {},
     "output_type": "execute_result"
    }
   ],
   "source": [
    "df.emp_title.value_counts()"
   ]
  },
  {
   "cell_type": "code",
   "execution_count": 27,
   "metadata": {},
   "outputs": [
    {
     "data": {
      "text/plain": [
       "378353"
      ]
     },
     "execution_count": 27,
     "metadata": {},
     "output_type": "execute_result"
    }
   ],
   "source": [
    "df.emp_title.value_counts().count()"
   ]
  },
  {
   "cell_type": "code",
   "execution_count": 28,
   "metadata": {},
   "outputs": [],
   "source": [
    "df.drop('emp_title', axis=1, inplace=True)"
   ]
  },
  {
   "cell_type": "code",
   "execution_count": 29,
   "metadata": {
    "scrolled": true
   },
   "outputs": [
    {
     "data": {
      "text/plain": [
       "['1 year',\n",
       " '10+ years',\n",
       " '2 years',\n",
       " '3 years',\n",
       " '4 years',\n",
       " '5 years',\n",
       " '6 years',\n",
       " '7 years',\n",
       " '8 years',\n",
       " '9 years',\n",
       " '< 1 year']"
      ]
     },
     "execution_count": 29,
     "metadata": {},
     "output_type": "execute_result"
    }
   ],
   "source": [
    "sorted(df.emp_length.dropna().unique())"
   ]
  },
  {
   "cell_type": "code",
   "execution_count": 30,
   "metadata": {},
   "outputs": [],
   "source": [
    "length_order = ['< 1 year', '1 year',\n",
    " '2 years',\n",
    " '3 years',\n",
    " '4 years',\n",
    " '5 years',\n",
    " '6 years',\n",
    " '7 years',\n",
    " '8 years',\n",
    " '9 years',\n",
    " '10+ years']"
   ]
  },
  {
   "cell_type": "code",
   "execution_count": 31,
   "metadata": {},
   "outputs": [
    {
     "data": {
      "text/plain": [
       "Text(0.5, 1.0, 'employee length Distribution')"
      ]
     },
     "execution_count": 31,
     "metadata": {},
     "output_type": "execute_result"
    },
    {
     "data": {
      "image/png": "[encoded data removed]",
      "text/plain": [
       "<Figure size 720x432 with 1 Axes>"
      ]
     },
     "metadata": {
      "needs_background": "light"
     },
     "output_type": "display_data"
    }
   ],
   "source": [
    "plt.figure(figsize=(10,6))\n",
    "sns.countplot(data = df, x = 'emp_length', order=length_order)\n",
    "plt.title('employee length Distribution')"
   ]
  },
  {
   "cell_type": "code",
   "execution_count": 32,
   "metadata": {},
   "outputs": [
    {
     "data": {
      "text/plain": [
       "Text(0.5, 1.0, 'employee length by Loan status')"
      ]
     },
     "execution_count": 32,
     "metadata": {},
     "output_type": "execute_result"
    },
    {
     "data": {
      "image/png": "[encoded data removed]",
      "text/plain": [
       "<Figure size 720x432 with 1 Axes>"
      ]
     },
     "metadata": {
      "needs_background": "light"
     },
     "output_type": "display_data"
    }
   ],
   "source": [
    "plt.figure(figsize=(10,6))\n",
    "sns.countplot(data = df, x = 'emp_length', hue='charged_off', order=length_order)\n",
    "plt.title('employee length by Loan status')"
   ]
  },
  {
   "cell_type": "code",
   "execution_count": 33,
   "metadata": {},
   "outputs": [],
   "source": [
    "temp1 = df[df.charged_off == 0].groupby('emp_length').charged_off.count()\n",
    "temp2 = df[df.charged_off == 1].groupby('emp_length').charged_off.count()"
   ]
  },
  {
   "cell_type": "code",
   "execution_count": 34,
   "metadata": {},
   "outputs": [
    {
     "data": {
      "text/plain": [
       "Text(0.5, 1.0, 'Emp.Length Fully Paid/Charged Off Ratio')"
      ]
     },
     "execution_count": 34,
     "metadata": {},
     "output_type": "execute_result"
    },
    {
     "data": {
      "image/png": "[encoded data removed]",
      "text/plain": [
       "<Figure size 432x288 with 1 Axes>"
      ]
     },
     "metadata": {
      "needs_background": "light"
     },
     "output_type": "display_data"
    }
   ],
   "source": [
    "(temp1/temp2).plot(kind='bar')\n",
    "plt.title('Emp.Length Fully Paid/Charged Off Ratio')"
   ]
  },
  {
   "cell_type": "code",
   "execution_count": 35,
   "metadata": {},
   "outputs": [],
   "source": [
    "df.drop('emp_length', axis=1, inplace=True)"
   ]
  },
  {
   "cell_type": "code",
   "execution_count": 36,
   "metadata": {},
   "outputs": [
    {
     "data": {
      "text/plain": [
       "loan_amnt               0.00\n",
       "term                    0.00\n",
       "int_rate                0.00\n",
       "grade                   0.00\n",
       "sub_grade               0.00\n",
       "home_ownership          0.00\n",
       "annual_inc              0.00\n",
       "verification_status     0.00\n",
       "issue_d                 0.00\n",
       "purpose                 0.00\n",
       "title                   0.01\n",
       "addr_state              0.00\n",
       "dti                     0.00\n",
       "earliest_cr_line        0.00\n",
       "fico_range_low          0.00\n",
       "fico_range_high         0.00\n",
       "inq_last_6mths          0.00\n",
       "open_acc                0.00\n",
       "revol_bal               0.00\n",
       "revol_util              0.00\n",
       "initial_list_status     0.00\n",
       "last_pymnt_amnt         0.00\n",
       "application_type        0.00\n",
       "mort_acc                0.04\n",
       "pub_rec_bankruptcies    0.00\n",
       "charged_off             0.00\n",
       "dtype: float64"
      ]
     },
     "execution_count": 36,
     "metadata": {},
     "output_type": "execute_result"
    }
   ],
   "source": [
    "round(df.isnull().sum()/len(df),2)"
   ]
  },
  {
   "cell_type": "code",
   "execution_count": 37,
   "metadata": {},
   "outputs": [],
   "source": [
    "df.dropna(inplace=True)"
   ]
  },
  {
   "cell_type": "code",
   "execution_count": 38,
   "metadata": {
    "scrolled": true
   },
   "outputs": [
    {
     "name": "stdout",
     "output_type": "stream",
     "text": [
      "Missing values:  0\n"
     ]
    }
   ],
   "source": [
    "print(\"Missing values: \",df.isnull().sum().sum())"
   ]
  },
  {
   "cell_type": "code",
   "execution_count": 39,
   "metadata": {},
   "outputs": [
    {
     "data": {
      "text/plain": [
       "Index(['loan_amnt', 'term', 'int_rate', 'grade', 'sub_grade', 'home_ownership',\n",
       "       'annual_inc', 'verification_status', 'issue_d', 'purpose', 'title',\n",
       "       'addr_state', 'dti', 'earliest_cr_line', 'fico_range_low',\n",
       "       'fico_range_high', 'inq_last_6mths', 'open_acc', 'revol_bal',\n",
       "       'revol_util', 'initial_list_status', 'last_pymnt_amnt',\n",
       "       'application_type', 'mort_acc', 'pub_rec_bankruptcies', 'charged_off'],\n",
       "      dtype='object')"
      ]
     },
     "execution_count": 39,
     "metadata": {},
     "output_type": "execute_result"
    }
   ],
   "source": [
    "df.columns"
   ]
  },
  {
   "cell_type": "code",
   "execution_count": 40,
   "metadata": {},
   "outputs": [],
   "source": [
    "df.drop('title', axis=1, inplace=True)\n",
    "df.drop('addr_state', axis=1, inplace=True)"
   ]
  },
  {
   "cell_type": "code",
   "execution_count": 41,
   "metadata": {},
   "outputs": [],
   "source": [
    "df['fico_range'] = (df.fico_range_high+df.fico_range_low)/2\n",
    "df.drop(['fico_range_low','fico_range_high'], axis=1, inplace=True)"
   ]
  },
  {
   "cell_type": "code",
   "execution_count": 42,
   "metadata": {
    "scrolled": true
   },
   "outputs": [
    {
     "data": {
      "text/html": [
       "<div>\n",
       "<style scoped>\n",
       "    .dataframe tbody tr th:only-of-type {\n",
       "        vertical-align: middle;\n",
       "    }\n",
       "\n",
       "    .dataframe tbody tr th {\n",
       "        vertical-align: top;\n",
       "    }\n",
       "\n",
       "    .dataframe thead th {\n",
       "        text-align: right;\n",
       "    }\n",
       "</style>\n",
       "<table border=\"1\" class=\"dataframe\">\n",
       "  <thead>\n",
       "    <tr style=\"text-align: right;\">\n",
       "      <th></th>\n",
       "      <th>loan_amnt</th>\n",
       "      <th>int_rate</th>\n",
       "      <th>annual_inc</th>\n",
       "      <th>dti</th>\n",
       "      <th>inq_last_6mths</th>\n",
       "      <th>open_acc</th>\n",
       "      <th>revol_bal</th>\n",
       "      <th>revol_util</th>\n",
       "      <th>last_pymnt_amnt</th>\n",
       "      <th>mort_acc</th>\n",
       "      <th>pub_rec_bankruptcies</th>\n",
       "      <th>charged_off</th>\n",
       "      <th>fico_range</th>\n",
       "    </tr>\n",
       "  </thead>\n",
       "  <tbody>\n",
       "    <tr>\n",
       "      <th>0</th>\n",
       "      <td>3600.0</td>\n",
       "      <td>13.99</td>\n",
       "      <td>55000.0</td>\n",
       "      <td>5.91</td>\n",
       "      <td>1.0</td>\n",
       "      <td>7.0</td>\n",
       "      <td>2765.0</td>\n",
       "      <td>29.7</td>\n",
       "      <td>122.67</td>\n",
       "      <td>1.0</td>\n",
       "      <td>0.0</td>\n",
       "      <td>0</td>\n",
       "      <td>677.0</td>\n",
       "    </tr>\n",
       "    <tr>\n",
       "      <th>1</th>\n",
       "      <td>24700.0</td>\n",
       "      <td>11.99</td>\n",
       "      <td>65000.0</td>\n",
       "      <td>16.06</td>\n",
       "      <td>4.0</td>\n",
       "      <td>22.0</td>\n",
       "      <td>21470.0</td>\n",
       "      <td>19.2</td>\n",
       "      <td>926.35</td>\n",
       "      <td>4.0</td>\n",
       "      <td>0.0</td>\n",
       "      <td>0</td>\n",
       "      <td>717.0</td>\n",
       "    </tr>\n",
       "    <tr>\n",
       "      <th>3</th>\n",
       "      <td>10400.0</td>\n",
       "      <td>22.45</td>\n",
       "      <td>104433.0</td>\n",
       "      <td>25.37</td>\n",
       "      <td>3.0</td>\n",
       "      <td>12.0</td>\n",
       "      <td>21929.0</td>\n",
       "      <td>64.5</td>\n",
       "      <td>10128.96</td>\n",
       "      <td>6.0</td>\n",
       "      <td>0.0</td>\n",
       "      <td>0</td>\n",
       "      <td>697.0</td>\n",
       "    </tr>\n",
       "    <tr>\n",
       "      <th>4</th>\n",
       "      <td>11950.0</td>\n",
       "      <td>13.44</td>\n",
       "      <td>34000.0</td>\n",
       "      <td>10.20</td>\n",
       "      <td>0.0</td>\n",
       "      <td>5.0</td>\n",
       "      <td>8822.0</td>\n",
       "      <td>68.4</td>\n",
       "      <td>7653.56</td>\n",
       "      <td>0.0</td>\n",
       "      <td>0.0</td>\n",
       "      <td>0</td>\n",
       "      <td>692.0</td>\n",
       "    </tr>\n",
       "    <tr>\n",
       "      <th>5</th>\n",
       "      <td>20000.0</td>\n",
       "      <td>9.17</td>\n",
       "      <td>180000.0</td>\n",
       "      <td>14.67</td>\n",
       "      <td>0.0</td>\n",
       "      <td>12.0</td>\n",
       "      <td>87329.0</td>\n",
       "      <td>84.5</td>\n",
       "      <td>15681.05</td>\n",
       "      <td>4.0</td>\n",
       "      <td>0.0</td>\n",
       "      <td>0</td>\n",
       "      <td>682.0</td>\n",
       "    </tr>\n",
       "    <tr>\n",
       "      <th>...</th>\n",
       "      <td>...</td>\n",
       "      <td>...</td>\n",
       "      <td>...</td>\n",
       "      <td>...</td>\n",
       "      <td>...</td>\n",
       "      <td>...</td>\n",
       "      <td>...</td>\n",
       "      <td>...</td>\n",
       "      <td>...</td>\n",
       "      <td>...</td>\n",
       "      <td>...</td>\n",
       "      <td>...</td>\n",
       "      <td>...</td>\n",
       "    </tr>\n",
       "    <tr>\n",
       "      <th>1345305</th>\n",
       "      <td>18000.0</td>\n",
       "      <td>9.49</td>\n",
       "      <td>130000.0</td>\n",
       "      <td>20.59</td>\n",
       "      <td>1.0</td>\n",
       "      <td>17.0</td>\n",
       "      <td>23833.0</td>\n",
       "      <td>34.0</td>\n",
       "      <td>12828.77</td>\n",
       "      <td>3.0</td>\n",
       "      <td>0.0</td>\n",
       "      <td>0</td>\n",
       "      <td>737.0</td>\n",
       "    </tr>\n",
       "    <tr>\n",
       "      <th>1345306</th>\n",
       "      <td>29400.0</td>\n",
       "      <td>13.99</td>\n",
       "      <td>180792.0</td>\n",
       "      <td>22.03</td>\n",
       "      <td>1.0</td>\n",
       "      <td>16.0</td>\n",
       "      <td>77480.0</td>\n",
       "      <td>85.2</td>\n",
       "      <td>22192.81</td>\n",
       "      <td>3.0</td>\n",
       "      <td>0.0</td>\n",
       "      <td>0</td>\n",
       "      <td>707.0</td>\n",
       "    </tr>\n",
       "    <tr>\n",
       "      <th>1345307</th>\n",
       "      <td>32000.0</td>\n",
       "      <td>14.49</td>\n",
       "      <td>157000.0</td>\n",
       "      <td>10.34</td>\n",
       "      <td>0.0</td>\n",
       "      <td>14.0</td>\n",
       "      <td>111598.0</td>\n",
       "      <td>27.4</td>\n",
       "      <td>752.74</td>\n",
       "      <td>3.0</td>\n",
       "      <td>0.0</td>\n",
       "      <td>1</td>\n",
       "      <td>737.0</td>\n",
       "    </tr>\n",
       "    <tr>\n",
       "      <th>1345308</th>\n",
       "      <td>16000.0</td>\n",
       "      <td>12.79</td>\n",
       "      <td>150000.0</td>\n",
       "      <td>12.25</td>\n",
       "      <td>0.0</td>\n",
       "      <td>12.0</td>\n",
       "      <td>7700.0</td>\n",
       "      <td>55.0</td>\n",
       "      <td>12874.54</td>\n",
       "      <td>0.0</td>\n",
       "      <td>3.0</td>\n",
       "      <td>0</td>\n",
       "      <td>667.0</td>\n",
       "    </tr>\n",
       "    <tr>\n",
       "      <th>1345309</th>\n",
       "      <td>24000.0</td>\n",
       "      <td>14.49</td>\n",
       "      <td>110000.0</td>\n",
       "      <td>18.30</td>\n",
       "      <td>0.0</td>\n",
       "      <td>10.0</td>\n",
       "      <td>17641.0</td>\n",
       "      <td>68.1</td>\n",
       "      <td>564.56</td>\n",
       "      <td>2.0</td>\n",
       "      <td>1.0</td>\n",
       "      <td>1</td>\n",
       "      <td>662.0</td>\n",
       "    </tr>\n",
       "  </tbody>\n",
       "</table>\n",
       "<p>1280230 rows × 13 columns</p>\n",
       "</div>"
      ],
      "text/plain": [
       "         loan_amnt  int_rate  annual_inc    dti  inq_last_6mths  open_acc  \\\n",
       "0           3600.0     13.99     55000.0   5.91             1.0       7.0   \n",
       "1          24700.0     11.99     65000.0  16.06             4.0      22.0   \n",
       "3          10400.0     22.45    104433.0  25.37             3.0      12.0   \n",
       "4          11950.0     13.44     34000.0  10.20             0.0       5.0   \n",
       "5          20000.0      9.17    180000.0  14.67             0.0      12.0   \n",
       "...            ...       ...         ...    ...             ...       ...   \n",
       "1345305    18000.0      9.49    130000.0  20.59             1.0      17.0   \n",
       "1345306    29400.0     13.99    180792.0  22.03             1.0      16.0   \n",
       "1345307    32000.0     14.49    157000.0  10.34             0.0      14.0   \n",
       "1345308    16000.0     12.79    150000.0  12.25             0.0      12.0   \n",
       "1345309    24000.0     14.49    110000.0  18.30             0.0      10.0   \n",
       "\n",
       "         revol_bal  revol_util  last_pymnt_amnt  mort_acc  \\\n",
       "0           2765.0        29.7           122.67       1.0   \n",
       "1          21470.0        19.2           926.35       4.0   \n",
       "3          21929.0        64.5         10128.96       6.0   \n",
       "4           8822.0        68.4          7653.56       0.0   \n",
       "5          87329.0        84.5         15681.05       4.0   \n",
       "...            ...         ...              ...       ...   \n",
       "1345305    23833.0        34.0         12828.77       3.0   \n",
       "1345306    77480.0        85.2         22192.81       3.0   \n",
       "1345307   111598.0        27.4           752.74       3.0   \n",
       "1345308     7700.0        55.0         12874.54       0.0   \n",
       "1345309    17641.0        68.1           564.56       2.0   \n",
       "\n",
       "         pub_rec_bankruptcies  charged_off  fico_range  \n",
       "0                         0.0            0       677.0  \n",
       "1                         0.0            0       717.0  \n",
       "3                         0.0            0       697.0  \n",
       "4                         0.0            0       692.0  \n",
       "5                         0.0            0       682.0  \n",
       "...                       ...          ...         ...  \n",
       "1345305                   0.0            0       737.0  \n",
       "1345306                   0.0            0       707.0  \n",
       "1345307                   0.0            1       737.0  \n",
       "1345308                   3.0            0       667.0  \n",
       "1345309                   1.0            1       662.0  \n",
       "\n",
       "[1280230 rows x 13 columns]"
      ]
     },
     "execution_count": 42,
     "metadata": {},
     "output_type": "execute_result"
    }
   ],
   "source": [
    "df.select_dtypes(exclude=[\"category\", \"object\"])"
   ]
  },
  {
   "cell_type": "markdown",
   "metadata": {},
   "source": [
    "# Feature Scaling"
   ]
  },
  {
   "cell_type": "code",
   "execution_count": 43,
   "metadata": {
    "scrolled": true
   },
   "outputs": [
    {
     "data": {
      "text/html": [
       "<div>\n",
       "<style scoped>\n",
       "    .dataframe tbody tr th:only-of-type {\n",
       "        vertical-align: middle;\n",
       "    }\n",
       "\n",
       "    .dataframe tbody tr th {\n",
       "        vertical-align: top;\n",
       "    }\n",
       "\n",
       "    .dataframe thead th {\n",
       "        text-align: right;\n",
       "    }\n",
       "</style>\n",
       "<table border=\"1\" class=\"dataframe\">\n",
       "  <thead>\n",
       "    <tr style=\"text-align: right;\">\n",
       "      <th></th>\n",
       "      <th>loan_amnt</th>\n",
       "      <th>int_rate</th>\n",
       "      <th>annual_inc</th>\n",
       "      <th>dti</th>\n",
       "      <th>inq_last_6mths</th>\n",
       "      <th>open_acc</th>\n",
       "      <th>revol_bal</th>\n",
       "      <th>revol_util</th>\n",
       "      <th>last_pymnt_amnt</th>\n",
       "      <th>mort_acc</th>\n",
       "      <th>pub_rec_bankruptcies</th>\n",
       "      <th>charged_off</th>\n",
       "      <th>fico_range</th>\n",
       "    </tr>\n",
       "  </thead>\n",
       "  <tbody>\n",
       "    <tr>\n",
       "      <th>0</th>\n",
       "      <td>3600.0</td>\n",
       "      <td>13.99</td>\n",
       "      <td>55000.0</td>\n",
       "      <td>5.91</td>\n",
       "      <td>1.0</td>\n",
       "      <td>7.0</td>\n",
       "      <td>2765.0</td>\n",
       "      <td>29.7</td>\n",
       "      <td>122.67</td>\n",
       "      <td>1.0</td>\n",
       "      <td>0.0</td>\n",
       "      <td>0</td>\n",
       "      <td>677.0</td>\n",
       "    </tr>\n",
       "    <tr>\n",
       "      <th>1</th>\n",
       "      <td>24700.0</td>\n",
       "      <td>11.99</td>\n",
       "      <td>65000.0</td>\n",
       "      <td>16.06</td>\n",
       "      <td>4.0</td>\n",
       "      <td>22.0</td>\n",
       "      <td>21470.0</td>\n",
       "      <td>19.2</td>\n",
       "      <td>926.35</td>\n",
       "      <td>4.0</td>\n",
       "      <td>0.0</td>\n",
       "      <td>0</td>\n",
       "      <td>717.0</td>\n",
       "    </tr>\n",
       "    <tr>\n",
       "      <th>3</th>\n",
       "      <td>10400.0</td>\n",
       "      <td>22.45</td>\n",
       "      <td>104433.0</td>\n",
       "      <td>25.37</td>\n",
       "      <td>3.0</td>\n",
       "      <td>12.0</td>\n",
       "      <td>21929.0</td>\n",
       "      <td>64.5</td>\n",
       "      <td>10128.96</td>\n",
       "      <td>6.0</td>\n",
       "      <td>0.0</td>\n",
       "      <td>0</td>\n",
       "      <td>697.0</td>\n",
       "    </tr>\n",
       "    <tr>\n",
       "      <th>4</th>\n",
       "      <td>11950.0</td>\n",
       "      <td>13.44</td>\n",
       "      <td>34000.0</td>\n",
       "      <td>10.20</td>\n",
       "      <td>0.0</td>\n",
       "      <td>5.0</td>\n",
       "      <td>8822.0</td>\n",
       "      <td>68.4</td>\n",
       "      <td>7653.56</td>\n",
       "      <td>0.0</td>\n",
       "      <td>0.0</td>\n",
       "      <td>0</td>\n",
       "      <td>692.0</td>\n",
       "    </tr>\n",
       "    <tr>\n",
       "      <th>5</th>\n",
       "      <td>20000.0</td>\n",
       "      <td>9.17</td>\n",
       "      <td>180000.0</td>\n",
       "      <td>14.67</td>\n",
       "      <td>0.0</td>\n",
       "      <td>12.0</td>\n",
       "      <td>87329.0</td>\n",
       "      <td>84.5</td>\n",
       "      <td>15681.05</td>\n",
       "      <td>4.0</td>\n",
       "      <td>0.0</td>\n",
       "      <td>0</td>\n",
       "      <td>682.0</td>\n",
       "    </tr>\n",
       "    <tr>\n",
       "      <th>...</th>\n",
       "      <td>...</td>\n",
       "      <td>...</td>\n",
       "      <td>...</td>\n",
       "      <td>...</td>\n",
       "      <td>...</td>\n",
       "      <td>...</td>\n",
       "      <td>...</td>\n",
       "      <td>...</td>\n",
       "      <td>...</td>\n",
       "      <td>...</td>\n",
       "      <td>...</td>\n",
       "      <td>...</td>\n",
       "      <td>...</td>\n",
       "    </tr>\n",
       "    <tr>\n",
       "      <th>1345305</th>\n",
       "      <td>18000.0</td>\n",
       "      <td>9.49</td>\n",
       "      <td>130000.0</td>\n",
       "      <td>20.59</td>\n",
       "      <td>1.0</td>\n",
       "      <td>17.0</td>\n",
       "      <td>23833.0</td>\n",
       "      <td>34.0</td>\n",
       "      <td>12828.77</td>\n",
       "      <td>3.0</td>\n",
       "      <td>0.0</td>\n",
       "      <td>0</td>\n",
       "      <td>737.0</td>\n",
       "    </tr>\n",
       "    <tr>\n",
       "      <th>1345306</th>\n",
       "      <td>29400.0</td>\n",
       "      <td>13.99</td>\n",
       "      <td>180792.0</td>\n",
       "      <td>22.03</td>\n",
       "      <td>1.0</td>\n",
       "      <td>16.0</td>\n",
       "      <td>77480.0</td>\n",
       "      <td>85.2</td>\n",
       "      <td>22192.81</td>\n",
       "      <td>3.0</td>\n",
       "      <td>0.0</td>\n",
       "      <td>0</td>\n",
       "      <td>707.0</td>\n",
       "    </tr>\n",
       "    <tr>\n",
       "      <th>1345307</th>\n",
       "      <td>32000.0</td>\n",
       "      <td>14.49</td>\n",
       "      <td>157000.0</td>\n",
       "      <td>10.34</td>\n",
       "      <td>0.0</td>\n",
       "      <td>14.0</td>\n",
       "      <td>111598.0</td>\n",
       "      <td>27.4</td>\n",
       "      <td>752.74</td>\n",
       "      <td>3.0</td>\n",
       "      <td>0.0</td>\n",
       "      <td>1</td>\n",
       "      <td>737.0</td>\n",
       "    </tr>\n",
       "    <tr>\n",
       "      <th>1345308</th>\n",
       "      <td>16000.0</td>\n",
       "      <td>12.79</td>\n",
       "      <td>150000.0</td>\n",
       "      <td>12.25</td>\n",
       "      <td>0.0</td>\n",
       "      <td>12.0</td>\n",
       "      <td>7700.0</td>\n",
       "      <td>55.0</td>\n",
       "      <td>12874.54</td>\n",
       "      <td>0.0</td>\n",
       "      <td>3.0</td>\n",
       "      <td>0</td>\n",
       "      <td>667.0</td>\n",
       "    </tr>\n",
       "    <tr>\n",
       "      <th>1345309</th>\n",
       "      <td>24000.0</td>\n",
       "      <td>14.49</td>\n",
       "      <td>110000.0</td>\n",
       "      <td>18.30</td>\n",
       "      <td>0.0</td>\n",
       "      <td>10.0</td>\n",
       "      <td>17641.0</td>\n",
       "      <td>68.1</td>\n",
       "      <td>564.56</td>\n",
       "      <td>2.0</td>\n",
       "      <td>1.0</td>\n",
       "      <td>1</td>\n",
       "      <td>662.0</td>\n",
       "    </tr>\n",
       "  </tbody>\n",
       "</table>\n",
       "<p>1280230 rows × 13 columns</p>\n",
       "</div>"
      ],
      "text/plain": [
       "         loan_amnt  int_rate  annual_inc    dti  inq_last_6mths  open_acc  \\\n",
       "0           3600.0     13.99     55000.0   5.91             1.0       7.0   \n",
       "1          24700.0     11.99     65000.0  16.06             4.0      22.0   \n",
       "3          10400.0     22.45    104433.0  25.37             3.0      12.0   \n",
       "4          11950.0     13.44     34000.0  10.20             0.0       5.0   \n",
       "5          20000.0      9.17    180000.0  14.67             0.0      12.0   \n",
       "...            ...       ...         ...    ...             ...       ...   \n",
       "1345305    18000.0      9.49    130000.0  20.59             1.0      17.0   \n",
       "1345306    29400.0     13.99    180792.0  22.03             1.0      16.0   \n",
       "1345307    32000.0     14.49    157000.0  10.34             0.0      14.0   \n",
       "1345308    16000.0     12.79    150000.0  12.25             0.0      12.0   \n",
       "1345309    24000.0     14.49    110000.0  18.30             0.0      10.0   \n",
       "\n",
       "         revol_bal  revol_util  last_pymnt_amnt  mort_acc  \\\n",
       "0           2765.0        29.7           122.67       1.0   \n",
       "1          21470.0        19.2           926.35       4.0   \n",
       "3          21929.0        64.5         10128.96       6.0   \n",
       "4           8822.0        68.4          7653.56       0.0   \n",
       "5          87329.0        84.5         15681.05       4.0   \n",
       "...            ...         ...              ...       ...   \n",
       "1345305    23833.0        34.0         12828.77       3.0   \n",
       "1345306    77480.0        85.2         22192.81       3.0   \n",
       "1345307   111598.0        27.4           752.74       3.0   \n",
       "1345308     7700.0        55.0         12874.54       0.0   \n",
       "1345309    17641.0        68.1           564.56       2.0   \n",
       "\n",
       "         pub_rec_bankruptcies  charged_off  fico_range  \n",
       "0                         0.0            0       677.0  \n",
       "1                         0.0            0       717.0  \n",
       "3                         0.0            0       697.0  \n",
       "4                         0.0            0       692.0  \n",
       "5                         0.0            0       682.0  \n",
       "...                       ...          ...         ...  \n",
       "1345305                   0.0            0       737.0  \n",
       "1345306                   0.0            0       707.0  \n",
       "1345307                   0.0            1       737.0  \n",
       "1345308                   3.0            0       667.0  \n",
       "1345309                   1.0            1       662.0  \n",
       "\n",
       "[1280230 rows x 13 columns]"
      ]
     },
     "execution_count": 43,
     "metadata": {},
     "output_type": "execute_result"
    }
   ],
   "source": [
    "df.select_dtypes(exclude=[\"category\", \"object\"])"
   ]
  },
  {
   "cell_type": "code",
   "execution_count": 44,
   "metadata": {
    "scrolled": true
   },
   "outputs": [
    {
     "data": {
      "text/html": [
       "<div>\n",
       "<style scoped>\n",
       "    .dataframe tbody tr th:only-of-type {\n",
       "        vertical-align: middle;\n",
       "    }\n",
       "\n",
       "    .dataframe tbody tr th {\n",
       "        vertical-align: top;\n",
       "    }\n",
       "\n",
       "    .dataframe thead th {\n",
       "        text-align: right;\n",
       "    }\n",
       "</style>\n",
       "<table border=\"1\" class=\"dataframe\">\n",
       "  <thead>\n",
       "    <tr style=\"text-align: right;\">\n",
       "      <th></th>\n",
       "      <th>loan_amnt</th>\n",
       "      <th>term</th>\n",
       "      <th>int_rate</th>\n",
       "      <th>grade</th>\n",
       "      <th>sub_grade</th>\n",
       "      <th>home_ownership</th>\n",
       "      <th>annual_inc</th>\n",
       "      <th>verification_status</th>\n",
       "      <th>issue_d</th>\n",
       "      <th>purpose</th>\n",
       "      <th>...</th>\n",
       "      <th>inq_last_6mths</th>\n",
       "      <th>open_acc</th>\n",
       "      <th>revol_bal</th>\n",
       "      <th>revol_util</th>\n",
       "      <th>initial_list_status</th>\n",
       "      <th>last_pymnt_amnt</th>\n",
       "      <th>application_type</th>\n",
       "      <th>mort_acc</th>\n",
       "      <th>pub_rec_bankruptcies</th>\n",
       "      <th>fico_range</th>\n",
       "    </tr>\n",
       "  </thead>\n",
       "  <tbody>\n",
       "    <tr>\n",
       "      <th>0</th>\n",
       "      <td>3600.0</td>\n",
       "      <td>36 months</td>\n",
       "      <td>13.99</td>\n",
       "      <td>C</td>\n",
       "      <td>C4</td>\n",
       "      <td>MORTGAGE</td>\n",
       "      <td>55000.0</td>\n",
       "      <td>Not Verified</td>\n",
       "      <td>Dec-2015</td>\n",
       "      <td>debt_consolidation</td>\n",
       "      <td>...</td>\n",
       "      <td>1.0</td>\n",
       "      <td>7.0</td>\n",
       "      <td>2765.0</td>\n",
       "      <td>29.7</td>\n",
       "      <td>w</td>\n",
       "      <td>122.67</td>\n",
       "      <td>Individual</td>\n",
       "      <td>1.0</td>\n",
       "      <td>0.0</td>\n",
       "      <td>677.0</td>\n",
       "    </tr>\n",
       "    <tr>\n",
       "      <th>1</th>\n",
       "      <td>24700.0</td>\n",
       "      <td>36 months</td>\n",
       "      <td>11.99</td>\n",
       "      <td>C</td>\n",
       "      <td>C1</td>\n",
       "      <td>MORTGAGE</td>\n",
       "      <td>65000.0</td>\n",
       "      <td>Not Verified</td>\n",
       "      <td>Dec-2015</td>\n",
       "      <td>small_business</td>\n",
       "      <td>...</td>\n",
       "      <td>4.0</td>\n",
       "      <td>22.0</td>\n",
       "      <td>21470.0</td>\n",
       "      <td>19.2</td>\n",
       "      <td>w</td>\n",
       "      <td>926.35</td>\n",
       "      <td>Individual</td>\n",
       "      <td>4.0</td>\n",
       "      <td>0.0</td>\n",
       "      <td>717.0</td>\n",
       "    </tr>\n",
       "    <tr>\n",
       "      <th>3</th>\n",
       "      <td>10400.0</td>\n",
       "      <td>60 months</td>\n",
       "      <td>22.45</td>\n",
       "      <td>F</td>\n",
       "      <td>F1</td>\n",
       "      <td>MORTGAGE</td>\n",
       "      <td>104433.0</td>\n",
       "      <td>Source Verified</td>\n",
       "      <td>Dec-2015</td>\n",
       "      <td>major_purchase</td>\n",
       "      <td>...</td>\n",
       "      <td>3.0</td>\n",
       "      <td>12.0</td>\n",
       "      <td>21929.0</td>\n",
       "      <td>64.5</td>\n",
       "      <td>w</td>\n",
       "      <td>10128.96</td>\n",
       "      <td>Individual</td>\n",
       "      <td>6.0</td>\n",
       "      <td>0.0</td>\n",
       "      <td>697.0</td>\n",
       "    </tr>\n",
       "    <tr>\n",
       "      <th>4</th>\n",
       "      <td>11950.0</td>\n",
       "      <td>36 months</td>\n",
       "      <td>13.44</td>\n",
       "      <td>C</td>\n",
       "      <td>C3</td>\n",
       "      <td>RENT</td>\n",
       "      <td>34000.0</td>\n",
       "      <td>Source Verified</td>\n",
       "      <td>Dec-2015</td>\n",
       "      <td>debt_consolidation</td>\n",
       "      <td>...</td>\n",
       "      <td>0.0</td>\n",
       "      <td>5.0</td>\n",
       "      <td>8822.0</td>\n",
       "      <td>68.4</td>\n",
       "      <td>w</td>\n",
       "      <td>7653.56</td>\n",
       "      <td>Individual</td>\n",
       "      <td>0.0</td>\n",
       "      <td>0.0</td>\n",
       "      <td>692.0</td>\n",
       "    </tr>\n",
       "    <tr>\n",
       "      <th>5</th>\n",
       "      <td>20000.0</td>\n",
       "      <td>36 months</td>\n",
       "      <td>9.17</td>\n",
       "      <td>B</td>\n",
       "      <td>B2</td>\n",
       "      <td>MORTGAGE</td>\n",
       "      <td>180000.0</td>\n",
       "      <td>Not Verified</td>\n",
       "      <td>Dec-2015</td>\n",
       "      <td>debt_consolidation</td>\n",
       "      <td>...</td>\n",
       "      <td>0.0</td>\n",
       "      <td>12.0</td>\n",
       "      <td>87329.0</td>\n",
       "      <td>84.5</td>\n",
       "      <td>f</td>\n",
       "      <td>15681.05</td>\n",
       "      <td>Individual</td>\n",
       "      <td>4.0</td>\n",
       "      <td>0.0</td>\n",
       "      <td>682.0</td>\n",
       "    </tr>\n",
       "    <tr>\n",
       "      <th>6</th>\n",
       "      <td>20000.0</td>\n",
       "      <td>36 months</td>\n",
       "      <td>8.49</td>\n",
       "      <td>B</td>\n",
       "      <td>B1</td>\n",
       "      <td>MORTGAGE</td>\n",
       "      <td>85000.0</td>\n",
       "      <td>Not Verified</td>\n",
       "      <td>Dec-2015</td>\n",
       "      <td>major_purchase</td>\n",
       "      <td>...</td>\n",
       "      <td>0.0</td>\n",
       "      <td>8.0</td>\n",
       "      <td>826.0</td>\n",
       "      <td>5.7</td>\n",
       "      <td>w</td>\n",
       "      <td>14618.23</td>\n",
       "      <td>Individual</td>\n",
       "      <td>3.0</td>\n",
       "      <td>0.0</td>\n",
       "      <td>707.0</td>\n",
       "    </tr>\n",
       "    <tr>\n",
       "      <th>7</th>\n",
       "      <td>10000.0</td>\n",
       "      <td>36 months</td>\n",
       "      <td>6.49</td>\n",
       "      <td>A</td>\n",
       "      <td>A2</td>\n",
       "      <td>RENT</td>\n",
       "      <td>85000.0</td>\n",
       "      <td>Not Verified</td>\n",
       "      <td>Dec-2015</td>\n",
       "      <td>credit_card</td>\n",
       "      <td>...</td>\n",
       "      <td>1.0</td>\n",
       "      <td>14.0</td>\n",
       "      <td>10464.0</td>\n",
       "      <td>34.5</td>\n",
       "      <td>w</td>\n",
       "      <td>1814.48</td>\n",
       "      <td>Individual</td>\n",
       "      <td>1.0</td>\n",
       "      <td>1.0</td>\n",
       "      <td>687.0</td>\n",
       "    </tr>\n",
       "    <tr>\n",
       "      <th>8</th>\n",
       "      <td>8000.0</td>\n",
       "      <td>36 months</td>\n",
       "      <td>11.48</td>\n",
       "      <td>B</td>\n",
       "      <td>B5</td>\n",
       "      <td>MORTGAGE</td>\n",
       "      <td>42000.0</td>\n",
       "      <td>Not Verified</td>\n",
       "      <td>Dec-2015</td>\n",
       "      <td>credit_card</td>\n",
       "      <td>...</td>\n",
       "      <td>0.0</td>\n",
       "      <td>8.0</td>\n",
       "      <td>7034.0</td>\n",
       "      <td>39.1</td>\n",
       "      <td>w</td>\n",
       "      <td>4996.24</td>\n",
       "      <td>Individual</td>\n",
       "      <td>1.0</td>\n",
       "      <td>0.0</td>\n",
       "      <td>702.0</td>\n",
       "    </tr>\n",
       "    <tr>\n",
       "      <th>10</th>\n",
       "      <td>18000.0</td>\n",
       "      <td>60 months</td>\n",
       "      <td>19.48</td>\n",
       "      <td>E</td>\n",
       "      <td>E2</td>\n",
       "      <td>RENT</td>\n",
       "      <td>150000.0</td>\n",
       "      <td>Not Verified</td>\n",
       "      <td>Dec-2015</td>\n",
       "      <td>debt_consolidation</td>\n",
       "      <td>...</td>\n",
       "      <td>1.0</td>\n",
       "      <td>18.0</td>\n",
       "      <td>14052.0</td>\n",
       "      <td>40.7</td>\n",
       "      <td>w</td>\n",
       "      <td>471.70</td>\n",
       "      <td>Individual</td>\n",
       "      <td>2.0</td>\n",
       "      <td>1.0</td>\n",
       "      <td>667.0</td>\n",
       "    </tr>\n",
       "    <tr>\n",
       "      <th>11</th>\n",
       "      <td>28000.0</td>\n",
       "      <td>36 months</td>\n",
       "      <td>6.49</td>\n",
       "      <td>A</td>\n",
       "      <td>A2</td>\n",
       "      <td>MORTGAGE</td>\n",
       "      <td>92000.0</td>\n",
       "      <td>Not Verified</td>\n",
       "      <td>Dec-2015</td>\n",
       "      <td>debt_consolidation</td>\n",
       "      <td>...</td>\n",
       "      <td>0.0</td>\n",
       "      <td>16.0</td>\n",
       "      <td>51507.0</td>\n",
       "      <td>64.5</td>\n",
       "      <td>w</td>\n",
       "      <td>17093.51</td>\n",
       "      <td>Individual</td>\n",
       "      <td>2.0</td>\n",
       "      <td>0.0</td>\n",
       "      <td>722.0</td>\n",
       "    </tr>\n",
       "  </tbody>\n",
       "</table>\n",
       "<p>10 rows × 22 columns</p>\n",
       "</div>"
      ],
      "text/plain": [
       "    loan_amnt        term  int_rate grade sub_grade home_ownership  \\\n",
       "0      3600.0   36 months     13.99     C        C4       MORTGAGE   \n",
       "1     24700.0   36 months     11.99     C        C1       MORTGAGE   \n",
       "3     10400.0   60 months     22.45     F        F1       MORTGAGE   \n",
       "4     11950.0   36 months     13.44     C        C3           RENT   \n",
       "5     20000.0   36 months      9.17     B        B2       MORTGAGE   \n",
       "6     20000.0   36 months      8.49     B        B1       MORTGAGE   \n",
       "7     10000.0   36 months      6.49     A        A2           RENT   \n",
       "8      8000.0   36 months     11.48     B        B5       MORTGAGE   \n",
       "10    18000.0   60 months     19.48     E        E2           RENT   \n",
       "11    28000.0   36 months      6.49     A        A2       MORTGAGE   \n",
       "\n",
       "    annual_inc verification_status   issue_d             purpose  ...  \\\n",
       "0      55000.0        Not Verified  Dec-2015  debt_consolidation  ...   \n",
       "1      65000.0        Not Verified  Dec-2015      small_business  ...   \n",
       "3     104433.0     Source Verified  Dec-2015      major_purchase  ...   \n",
       "4      34000.0     Source Verified  Dec-2015  debt_consolidation  ...   \n",
       "5     180000.0        Not Verified  Dec-2015  debt_consolidation  ...   \n",
       "6      85000.0        Not Verified  Dec-2015      major_purchase  ...   \n",
       "7      85000.0        Not Verified  Dec-2015         credit_card  ...   \n",
       "8      42000.0        Not Verified  Dec-2015         credit_card  ...   \n",
       "10    150000.0        Not Verified  Dec-2015  debt_consolidation  ...   \n",
       "11     92000.0        Not Verified  Dec-2015  debt_consolidation  ...   \n",
       "\n",
       "    inq_last_6mths open_acc  revol_bal  revol_util  initial_list_status  \\\n",
       "0              1.0      7.0     2765.0        29.7                    w   \n",
       "1              4.0     22.0    21470.0        19.2                    w   \n",
       "3              3.0     12.0    21929.0        64.5                    w   \n",
       "4              0.0      5.0     8822.0        68.4                    w   \n",
       "5              0.0     12.0    87329.0        84.5                    f   \n",
       "6              0.0      8.0      826.0         5.7                    w   \n",
       "7              1.0     14.0    10464.0        34.5                    w   \n",
       "8              0.0      8.0     7034.0        39.1                    w   \n",
       "10             1.0     18.0    14052.0        40.7                    w   \n",
       "11             0.0     16.0    51507.0        64.5                    w   \n",
       "\n",
       "    last_pymnt_amnt application_type  mort_acc pub_rec_bankruptcies  \\\n",
       "0            122.67       Individual       1.0                  0.0   \n",
       "1            926.35       Individual       4.0                  0.0   \n",
       "3          10128.96       Individual       6.0                  0.0   \n",
       "4           7653.56       Individual       0.0                  0.0   \n",
       "5          15681.05       Individual       4.0                  0.0   \n",
       "6          14618.23       Individual       3.0                  0.0   \n",
       "7           1814.48       Individual       1.0                  1.0   \n",
       "8           4996.24       Individual       1.0                  0.0   \n",
       "10           471.70       Individual       2.0                  1.0   \n",
       "11         17093.51       Individual       2.0                  0.0   \n",
       "\n",
       "    fico_range  \n",
       "0        677.0  \n",
       "1        717.0  \n",
       "3        697.0  \n",
       "4        692.0  \n",
       "5        682.0  \n",
       "6        707.0  \n",
       "7        687.0  \n",
       "8        702.0  \n",
       "10       667.0  \n",
       "11       722.0  \n",
       "\n",
       "[10 rows x 22 columns]"
      ]
     },
     "execution_count": 44,
     "metadata": {},
     "output_type": "execute_result"
    }
   ],
   "source": [
    "target = df.charged_off.astype('int')\n",
    "features = df.drop('charged_off', axis=1)\n",
    "features.head(10)"
   ]
  },
  {
   "cell_type": "code",
   "execution_count": 45,
   "metadata": {},
   "outputs": [
    {
     "data": {
      "text/html": [
       "<div>\n",
       "<style scoped>\n",
       "    .dataframe tbody tr th:only-of-type {\n",
       "        vertical-align: middle;\n",
       "    }\n",
       "\n",
       "    .dataframe tbody tr th {\n",
       "        vertical-align: top;\n",
       "    }\n",
       "\n",
       "    .dataframe thead th {\n",
       "        text-align: right;\n",
       "    }\n",
       "</style>\n",
       "<table border=\"1\" class=\"dataframe\">\n",
       "  <thead>\n",
       "    <tr style=\"text-align: right;\">\n",
       "      <th></th>\n",
       "      <th>loan_amnt</th>\n",
       "      <th>int_rate</th>\n",
       "      <th>annual_inc</th>\n",
       "      <th>dti</th>\n",
       "      <th>inq_last_6mths</th>\n",
       "      <th>open_acc</th>\n",
       "      <th>revol_bal</th>\n",
       "      <th>revol_util</th>\n",
       "      <th>last_pymnt_amnt</th>\n",
       "      <th>mort_acc</th>\n",
       "      <th>pub_rec_bankruptcies</th>\n",
       "      <th>fico_range</th>\n",
       "    </tr>\n",
       "  </thead>\n",
       "  <tbody>\n",
       "    <tr>\n",
       "      <th>0</th>\n",
       "      <td>3600.0</td>\n",
       "      <td>13.99</td>\n",
       "      <td>55000.0</td>\n",
       "      <td>5.91</td>\n",
       "      <td>1.0</td>\n",
       "      <td>7.0</td>\n",
       "      <td>2765.0</td>\n",
       "      <td>29.7</td>\n",
       "      <td>122.67</td>\n",
       "      <td>1.0</td>\n",
       "      <td>0.0</td>\n",
       "      <td>677.0</td>\n",
       "    </tr>\n",
       "    <tr>\n",
       "      <th>1</th>\n",
       "      <td>24700.0</td>\n",
       "      <td>11.99</td>\n",
       "      <td>65000.0</td>\n",
       "      <td>16.06</td>\n",
       "      <td>4.0</td>\n",
       "      <td>22.0</td>\n",
       "      <td>21470.0</td>\n",
       "      <td>19.2</td>\n",
       "      <td>926.35</td>\n",
       "      <td>4.0</td>\n",
       "      <td>0.0</td>\n",
       "      <td>717.0</td>\n",
       "    </tr>\n",
       "    <tr>\n",
       "      <th>3</th>\n",
       "      <td>10400.0</td>\n",
       "      <td>22.45</td>\n",
       "      <td>104433.0</td>\n",
       "      <td>25.37</td>\n",
       "      <td>3.0</td>\n",
       "      <td>12.0</td>\n",
       "      <td>21929.0</td>\n",
       "      <td>64.5</td>\n",
       "      <td>10128.96</td>\n",
       "      <td>6.0</td>\n",
       "      <td>0.0</td>\n",
       "      <td>697.0</td>\n",
       "    </tr>\n",
       "    <tr>\n",
       "      <th>4</th>\n",
       "      <td>11950.0</td>\n",
       "      <td>13.44</td>\n",
       "      <td>34000.0</td>\n",
       "      <td>10.20</td>\n",
       "      <td>0.0</td>\n",
       "      <td>5.0</td>\n",
       "      <td>8822.0</td>\n",
       "      <td>68.4</td>\n",
       "      <td>7653.56</td>\n",
       "      <td>0.0</td>\n",
       "      <td>0.0</td>\n",
       "      <td>692.0</td>\n",
       "    </tr>\n",
       "    <tr>\n",
       "      <th>5</th>\n",
       "      <td>20000.0</td>\n",
       "      <td>9.17</td>\n",
       "      <td>180000.0</td>\n",
       "      <td>14.67</td>\n",
       "      <td>0.0</td>\n",
       "      <td>12.0</td>\n",
       "      <td>87329.0</td>\n",
       "      <td>84.5</td>\n",
       "      <td>15681.05</td>\n",
       "      <td>4.0</td>\n",
       "      <td>0.0</td>\n",
       "      <td>682.0</td>\n",
       "    </tr>\n",
       "  </tbody>\n",
       "</table>\n",
       "</div>"
      ],
      "text/plain": [
       "   loan_amnt  int_rate  annual_inc    dti  inq_last_6mths  open_acc  \\\n",
       "0     3600.0     13.99     55000.0   5.91             1.0       7.0   \n",
       "1    24700.0     11.99     65000.0  16.06             4.0      22.0   \n",
       "3    10400.0     22.45    104433.0  25.37             3.0      12.0   \n",
       "4    11950.0     13.44     34000.0  10.20             0.0       5.0   \n",
       "5    20000.0      9.17    180000.0  14.67             0.0      12.0   \n",
       "\n",
       "   revol_bal  revol_util  last_pymnt_amnt  mort_acc  pub_rec_bankruptcies  \\\n",
       "0     2765.0        29.7           122.67       1.0                   0.0   \n",
       "1    21470.0        19.2           926.35       4.0                   0.0   \n",
       "3    21929.0        64.5         10128.96       6.0                   0.0   \n",
       "4     8822.0        68.4          7653.56       0.0                   0.0   \n",
       "5    87329.0        84.5         15681.05       4.0                   0.0   \n",
       "\n",
       "   fico_range  \n",
       "0       677.0  \n",
       "1       717.0  \n",
       "3       697.0  \n",
       "4       692.0  \n",
       "5       682.0  "
      ]
     },
     "execution_count": 45,
     "metadata": {},
     "output_type": "execute_result"
    }
   ],
   "source": [
    "numeric_features = features.select_dtypes(exclude=['object', 'category'])\n",
    "numeric_features.head()"
   ]
  },
  {
   "cell_type": "code",
   "execution_count": 46,
   "metadata": {},
   "outputs": [
    {
     "data": {
      "text/plain": [
       "Index(['loan_amnt', 'int_rate', 'annual_inc', 'dti', 'inq_last_6mths',\n",
       "       'open_acc', 'revol_bal', 'revol_util', 'last_pymnt_amnt', 'mort_acc',\n",
       "       'pub_rec_bankruptcies', 'fico_range'],\n",
       "      dtype='object')"
      ]
     },
     "execution_count": 46,
     "metadata": {},
     "output_type": "execute_result"
    }
   ],
   "source": [
    "numeric_features.columns"
   ]
  },
  {
   "cell_type": "code",
   "execution_count": 47,
   "metadata": {
    "scrolled": true
   },
   "outputs": [
    {
     "name": "stdout",
     "output_type": "stream",
     "text": [
      "[[-1.25028188  0.14866524 -0.30694753 ... -0.33604368 -0.36022032\n",
      "  -0.65203737]\n",
      " [ 1.16491765 -0.26879883 -0.1649339  ...  1.16241056 -0.36022032\n",
      "   0.61583632]\n",
      " [-0.47192374  1.91453826  0.39506841 ...  2.16138006 -0.36022032\n",
      "  -0.01810052]\n",
      " ...\n",
      " [ 2.00050801  0.25303126  1.14159141 ...  0.66292581 -0.36022032\n",
      "   1.24977317]\n",
      " [ 0.16907709 -0.1018132   1.04218188 ... -0.83552843  7.49344919\n",
      "  -0.96900579]\n",
      " [ 1.08479255  0.25303126  0.47412739 ...  0.16344106  2.25766952\n",
      "  -1.12749   ]]\n"
     ]
    }
   ],
   "source": [
    "from sklearn.preprocessing import StandardScaler\n",
    "sc = StandardScaler()\n",
    "scaled = sc.fit_transform(numeric_features)\n",
    "print(scaled)"
   ]
  },
  {
   "cell_type": "code",
   "execution_count": 48,
   "metadata": {},
   "outputs": [
    {
     "data": {
      "text/plain": [
       "loan_amnt               float64\n",
       "term                     object\n",
       "int_rate                float64\n",
       "grade                    object\n",
       "sub_grade                object\n",
       "home_ownership           object\n",
       "annual_inc              float64\n",
       "verification_status      object\n",
       "issue_d                  object\n",
       "purpose                  object\n",
       "dti                     float64\n",
       "earliest_cr_line         object\n",
       "inq_last_6mths          float64\n",
       "open_acc                float64\n",
       "revol_bal               float64\n",
       "revol_util              float64\n",
       "initial_list_status      object\n",
       "last_pymnt_amnt         float64\n",
       "application_type         object\n",
       "mort_acc                float64\n",
       "pub_rec_bankruptcies    float64\n",
       "charged_off               int64\n",
       "fico_range              float64\n",
       "dtype: object"
      ]
     },
     "execution_count": 48,
     "metadata": {},
     "output_type": "execute_result"
    }
   ],
   "source": [
    "df.dtypes"
   ]
  },
  {
   "cell_type": "code",
   "execution_count": 49,
   "metadata": {},
   "outputs": [
    {
     "data": {
      "text/html": [
       "<div>\n",
       "<style scoped>\n",
       "    .dataframe tbody tr th:only-of-type {\n",
       "        vertical-align: middle;\n",
       "    }\n",
       "\n",
       "    .dataframe tbody tr th {\n",
       "        vertical-align: top;\n",
       "    }\n",
       "\n",
       "    .dataframe thead th {\n",
       "        text-align: right;\n",
       "    }\n",
       "</style>\n",
       "<table border=\"1\" class=\"dataframe\">\n",
       "  <thead>\n",
       "    <tr style=\"text-align: right;\">\n",
       "      <th></th>\n",
       "      <th>loan_amnt</th>\n",
       "      <th>int_rate</th>\n",
       "      <th>annual_inc</th>\n",
       "      <th>dti</th>\n",
       "      <th>inq_last_6mths</th>\n",
       "      <th>open_acc</th>\n",
       "      <th>revol_bal</th>\n",
       "      <th>revol_util</th>\n",
       "      <th>last_pymnt_amnt</th>\n",
       "      <th>mort_acc</th>\n",
       "      <th>pub_rec_bankruptcies</th>\n",
       "      <th>fico_range</th>\n",
       "    </tr>\n",
       "  </thead>\n",
       "  <tbody>\n",
       "    <tr>\n",
       "      <th>0</th>\n",
       "      <td>-1.250282</td>\n",
       "      <td>0.148665</td>\n",
       "      <td>-0.306948</td>\n",
       "      <td>-1.111719</td>\n",
       "      <td>0.377035</td>\n",
       "      <td>-0.852914</td>\n",
       "      <td>-0.603491</td>\n",
       "      <td>-0.909127</td>\n",
       "      <td>-0.752826</td>\n",
       "      <td>-0.336044</td>\n",
       "      <td>-0.36022</td>\n",
       "      <td>-0.652037</td>\n",
       "    </tr>\n",
       "    <tr>\n",
       "      <th>1</th>\n",
       "      <td>1.164918</td>\n",
       "      <td>-0.268799</td>\n",
       "      <td>-0.164934</td>\n",
       "      <td>-0.211684</td>\n",
       "      <td>3.593066</td>\n",
       "      <td>1.878238</td>\n",
       "      <td>0.226793</td>\n",
       "      <td>-1.339627</td>\n",
       "      <td>-0.640828</td>\n",
       "      <td>1.162411</td>\n",
       "      <td>-0.36022</td>\n",
       "      <td>0.615836</td>\n",
       "    </tr>\n",
       "    <tr>\n",
       "      <th>3</th>\n",
       "      <td>-0.471924</td>\n",
       "      <td>1.914538</td>\n",
       "      <td>0.395068</td>\n",
       "      <td>0.613865</td>\n",
       "      <td>2.521056</td>\n",
       "      <td>0.057470</td>\n",
       "      <td>0.247167</td>\n",
       "      <td>0.517673</td>\n",
       "      <td>0.641620</td>\n",
       "      <td>2.161380</td>\n",
       "      <td>-0.36022</td>\n",
       "      <td>-0.018101</td>\n",
       "    </tr>\n",
       "    <tr>\n",
       "      <th>4</th>\n",
       "      <td>-0.294504</td>\n",
       "      <td>0.033863</td>\n",
       "      <td>-0.605176</td>\n",
       "      <td>-0.731310</td>\n",
       "      <td>-0.694975</td>\n",
       "      <td>-1.217068</td>\n",
       "      <td>-0.334631</td>\n",
       "      <td>0.677573</td>\n",
       "      <td>0.296655</td>\n",
       "      <td>-0.835528</td>\n",
       "      <td>-0.36022</td>\n",
       "      <td>-0.176585</td>\n",
       "    </tr>\n",
       "    <tr>\n",
       "      <th>5</th>\n",
       "      <td>0.626935</td>\n",
       "      <td>-0.857423</td>\n",
       "      <td>1.468223</td>\n",
       "      <td>-0.334940</td>\n",
       "      <td>-0.694975</td>\n",
       "      <td>0.057470</td>\n",
       "      <td>3.150166</td>\n",
       "      <td>1.337673</td>\n",
       "      <td>1.415342</td>\n",
       "      <td>1.162411</td>\n",
       "      <td>-0.36022</td>\n",
       "      <td>-0.493553</td>\n",
       "    </tr>\n",
       "  </tbody>\n",
       "</table>\n",
       "</div>"
      ],
      "text/plain": [
       "   loan_amnt  int_rate  annual_inc       dti  inq_last_6mths  open_acc  \\\n",
       "0  -1.250282  0.148665   -0.306948 -1.111719        0.377035 -0.852914   \n",
       "1   1.164918 -0.268799   -0.164934 -0.211684        3.593066  1.878238   \n",
       "3  -0.471924  1.914538    0.395068  0.613865        2.521056  0.057470   \n",
       "4  -0.294504  0.033863   -0.605176 -0.731310       -0.694975 -1.217068   \n",
       "5   0.626935 -0.857423    1.468223 -0.334940       -0.694975  0.057470   \n",
       "\n",
       "   revol_bal  revol_util  last_pymnt_amnt  mort_acc  pub_rec_bankruptcies  \\\n",
       "0  -0.603491   -0.909127        -0.752826 -0.336044              -0.36022   \n",
       "1   0.226793   -1.339627        -0.640828  1.162411              -0.36022   \n",
       "3   0.247167    0.517673         0.641620  2.161380              -0.36022   \n",
       "4  -0.334631    0.677573         0.296655 -0.835528              -0.36022   \n",
       "5   3.150166    1.337673         1.415342  1.162411              -0.36022   \n",
       "\n",
       "   fico_range  \n",
       "0   -0.652037  \n",
       "1    0.615836  \n",
       "3   -0.018101  \n",
       "4   -0.176585  \n",
       "5   -0.493553  "
      ]
     },
     "execution_count": 49,
     "metadata": {},
     "output_type": "execute_result"
    }
   ],
   "source": [
    "scaled_features = pd.DataFrame(scaled, columns=['loan_amnt', 'int_rate', 'annual_inc', 'dti', 'inq_last_6mths',\n",
    "       'open_acc', 'revol_bal', 'revol_util', 'last_pymnt_amnt', 'mort_acc',\n",
    "       'pub_rec_bankruptcies', 'fico_range'], index=df.index)\n",
    "scaled_features.head()"
   ]
  },
  {
   "cell_type": "code",
   "execution_count": 50,
   "metadata": {
    "scrolled": true
   },
   "outputs": [
    {
     "data": {
      "text/plain": [
       "loan_amnt               0\n",
       "int_rate                0\n",
       "annual_inc              0\n",
       "dti                     0\n",
       "inq_last_6mths          0\n",
       "open_acc                0\n",
       "revol_bal               0\n",
       "revol_util              0\n",
       "last_pymnt_amnt         0\n",
       "mort_acc                0\n",
       "pub_rec_bankruptcies    0\n",
       "fico_range              0\n",
       "dtype: int64"
      ]
     },
     "execution_count": 50,
     "metadata": {},
     "output_type": "execute_result"
    }
   ],
   "source": [
    "scaled_features.isnull().sum()"
   ]
  },
  {
   "cell_type": "code",
   "execution_count": 51,
   "metadata": {
    "scrolled": true
   },
   "outputs": [
    {
     "data": {
      "text/plain": [
       "(1280230, 12)"
      ]
     },
     "execution_count": 51,
     "metadata": {},
     "output_type": "execute_result"
    }
   ],
   "source": [
    "scaled_features.shape"
   ]
  },
  {
   "cell_type": "code",
   "execution_count": 52,
   "metadata": {},
   "outputs": [
    {
     "data": {
      "text/html": [
       "<div>\n",
       "<style scoped>\n",
       "    .dataframe tbody tr th:only-of-type {\n",
       "        vertical-align: middle;\n",
       "    }\n",
       "\n",
       "    .dataframe tbody tr th {\n",
       "        vertical-align: top;\n",
       "    }\n",
       "\n",
       "    .dataframe thead th {\n",
       "        text-align: right;\n",
       "    }\n",
       "</style>\n",
       "<table border=\"1\" class=\"dataframe\">\n",
       "  <thead>\n",
       "    <tr style=\"text-align: right;\">\n",
       "      <th></th>\n",
       "      <th>term_ 60 months</th>\n",
       "      <th>grade_B</th>\n",
       "      <th>grade_C</th>\n",
       "      <th>grade_D</th>\n",
       "      <th>grade_E</th>\n",
       "      <th>grade_F</th>\n",
       "      <th>grade_G</th>\n",
       "      <th>sub_grade_A2</th>\n",
       "      <th>sub_grade_A3</th>\n",
       "      <th>sub_grade_A4</th>\n",
       "      <th>...</th>\n",
       "      <th>earliest_cr_line_Sep-2008</th>\n",
       "      <th>earliest_cr_line_Sep-2009</th>\n",
       "      <th>earliest_cr_line_Sep-2010</th>\n",
       "      <th>earliest_cr_line_Sep-2011</th>\n",
       "      <th>earliest_cr_line_Sep-2012</th>\n",
       "      <th>earliest_cr_line_Sep-2013</th>\n",
       "      <th>earliest_cr_line_Sep-2014</th>\n",
       "      <th>earliest_cr_line_Sep-2015</th>\n",
       "      <th>initial_list_status_w</th>\n",
       "      <th>application_type_Joint App</th>\n",
       "    </tr>\n",
       "  </thead>\n",
       "  <tbody>\n",
       "    <tr>\n",
       "      <th>0</th>\n",
       "      <td>0</td>\n",
       "      <td>0</td>\n",
       "      <td>1</td>\n",
       "      <td>0</td>\n",
       "      <td>0</td>\n",
       "      <td>0</td>\n",
       "      <td>0</td>\n",
       "      <td>0</td>\n",
       "      <td>0</td>\n",
       "      <td>0</td>\n",
       "      <td>...</td>\n",
       "      <td>0</td>\n",
       "      <td>0</td>\n",
       "      <td>0</td>\n",
       "      <td>0</td>\n",
       "      <td>0</td>\n",
       "      <td>0</td>\n",
       "      <td>0</td>\n",
       "      <td>0</td>\n",
       "      <td>1</td>\n",
       "      <td>0</td>\n",
       "    </tr>\n",
       "    <tr>\n",
       "      <th>1</th>\n",
       "      <td>0</td>\n",
       "      <td>0</td>\n",
       "      <td>1</td>\n",
       "      <td>0</td>\n",
       "      <td>0</td>\n",
       "      <td>0</td>\n",
       "      <td>0</td>\n",
       "      <td>0</td>\n",
       "      <td>0</td>\n",
       "      <td>0</td>\n",
       "      <td>...</td>\n",
       "      <td>0</td>\n",
       "      <td>0</td>\n",
       "      <td>0</td>\n",
       "      <td>0</td>\n",
       "      <td>0</td>\n",
       "      <td>0</td>\n",
       "      <td>0</td>\n",
       "      <td>0</td>\n",
       "      <td>1</td>\n",
       "      <td>0</td>\n",
       "    </tr>\n",
       "    <tr>\n",
       "      <th>3</th>\n",
       "      <td>1</td>\n",
       "      <td>0</td>\n",
       "      <td>0</td>\n",
       "      <td>0</td>\n",
       "      <td>0</td>\n",
       "      <td>1</td>\n",
       "      <td>0</td>\n",
       "      <td>0</td>\n",
       "      <td>0</td>\n",
       "      <td>0</td>\n",
       "      <td>...</td>\n",
       "      <td>0</td>\n",
       "      <td>0</td>\n",
       "      <td>0</td>\n",
       "      <td>0</td>\n",
       "      <td>0</td>\n",
       "      <td>0</td>\n",
       "      <td>0</td>\n",
       "      <td>0</td>\n",
       "      <td>1</td>\n",
       "      <td>0</td>\n",
       "    </tr>\n",
       "    <tr>\n",
       "      <th>4</th>\n",
       "      <td>0</td>\n",
       "      <td>0</td>\n",
       "      <td>1</td>\n",
       "      <td>0</td>\n",
       "      <td>0</td>\n",
       "      <td>0</td>\n",
       "      <td>0</td>\n",
       "      <td>0</td>\n",
       "      <td>0</td>\n",
       "      <td>0</td>\n",
       "      <td>...</td>\n",
       "      <td>0</td>\n",
       "      <td>0</td>\n",
       "      <td>0</td>\n",
       "      <td>0</td>\n",
       "      <td>0</td>\n",
       "      <td>0</td>\n",
       "      <td>0</td>\n",
       "      <td>0</td>\n",
       "      <td>1</td>\n",
       "      <td>0</td>\n",
       "    </tr>\n",
       "    <tr>\n",
       "      <th>5</th>\n",
       "      <td>0</td>\n",
       "      <td>1</td>\n",
       "      <td>0</td>\n",
       "      <td>0</td>\n",
       "      <td>0</td>\n",
       "      <td>0</td>\n",
       "      <td>0</td>\n",
       "      <td>0</td>\n",
       "      <td>0</td>\n",
       "      <td>0</td>\n",
       "      <td>...</td>\n",
       "      <td>0</td>\n",
       "      <td>0</td>\n",
       "      <td>0</td>\n",
       "      <td>0</td>\n",
       "      <td>0</td>\n",
       "      <td>0</td>\n",
       "      <td>0</td>\n",
       "      <td>0</td>\n",
       "      <td>0</td>\n",
       "      <td>0</td>\n",
       "    </tr>\n",
       "  </tbody>\n",
       "</table>\n",
       "<p>5 rows × 878 columns</p>\n",
       "</div>"
      ],
      "text/plain": [
       "   term_ 60 months  grade_B  grade_C  grade_D  grade_E  grade_F  grade_G  \\\n",
       "0                0        0        1        0        0        0        0   \n",
       "1                0        0        1        0        0        0        0   \n",
       "3                1        0        0        0        0        1        0   \n",
       "4                0        0        1        0        0        0        0   \n",
       "5                0        1        0        0        0        0        0   \n",
       "\n",
       "   sub_grade_A2  sub_grade_A3  sub_grade_A4  ...  earliest_cr_line_Sep-2008  \\\n",
       "0             0             0             0  ...                          0   \n",
       "1             0             0             0  ...                          0   \n",
       "3             0             0             0  ...                          0   \n",
       "4             0             0             0  ...                          0   \n",
       "5             0             0             0  ...                          0   \n",
       "\n",
       "   earliest_cr_line_Sep-2009  earliest_cr_line_Sep-2010  \\\n",
       "0                          0                          0   \n",
       "1                          0                          0   \n",
       "3                          0                          0   \n",
       "4                          0                          0   \n",
       "5                          0                          0   \n",
       "\n",
       "   earliest_cr_line_Sep-2011  earliest_cr_line_Sep-2012  \\\n",
       "0                          0                          0   \n",
       "1                          0                          0   \n",
       "3                          0                          0   \n",
       "4                          0                          0   \n",
       "5                          0                          0   \n",
       "\n",
       "   earliest_cr_line_Sep-2013  earliest_cr_line_Sep-2014  \\\n",
       "0                          0                          0   \n",
       "1                          0                          0   \n",
       "3                          0                          0   \n",
       "4                          0                          0   \n",
       "5                          0                          0   \n",
       "\n",
       "   earliest_cr_line_Sep-2015  initial_list_status_w  \\\n",
       "0                          0                      1   \n",
       "1                          0                      1   \n",
       "3                          0                      1   \n",
       "4                          0                      1   \n",
       "5                          0                      0   \n",
       "\n",
       "   application_type_Joint App  \n",
       "0                           0  \n",
       "1                           0  \n",
       "3                           0  \n",
       "4                           0  \n",
       "5                           0  \n",
       "\n",
       "[5 rows x 878 columns]"
      ]
     },
     "execution_count": 52,
     "metadata": {},
     "output_type": "execute_result"
    }
   ],
   "source": [
    "object_features = df.select_dtypes(['object', 'category'])\n",
    "one_hot_features=pd.get_dummies(object_features, drop_first=True)\n",
    "one_hot_features.head()"
   ]
  },
  {
   "cell_type": "code",
   "execution_count": 53,
   "metadata": {},
   "outputs": [
    {
     "data": {
      "text/plain": [
       "(1280230, 878)"
      ]
     },
     "execution_count": 53,
     "metadata": {},
     "output_type": "execute_result"
    }
   ],
   "source": [
    "one_hot_features.shape"
   ]
  },
  {
   "cell_type": "code",
   "execution_count": 54,
   "metadata": {
    "scrolled": true
   },
   "outputs": [
    {
     "data": {
      "text/plain": [
       "0"
      ]
     },
     "execution_count": 54,
     "metadata": {},
     "output_type": "execute_result"
    }
   ],
   "source": [
    "one_hot_features.isnull().sum().sum()"
   ]
  },
  {
   "cell_type": "code",
   "execution_count": 55,
   "metadata": {
    "scrolled": true
   },
   "outputs": [
    {
     "data": {
      "text/html": [
       "<div>\n",
       "<style scoped>\n",
       "    .dataframe tbody tr th:only-of-type {\n",
       "        vertical-align: middle;\n",
       "    }\n",
       "\n",
       "    .dataframe tbody tr th {\n",
       "        vertical-align: top;\n",
       "    }\n",
       "\n",
       "    .dataframe thead th {\n",
       "        text-align: right;\n",
       "    }\n",
       "</style>\n",
       "<table border=\"1\" class=\"dataframe\">\n",
       "  <thead>\n",
       "    <tr style=\"text-align: right;\">\n",
       "      <th></th>\n",
       "      <th>key_0</th>\n",
       "      <th>loan_amnt</th>\n",
       "      <th>int_rate</th>\n",
       "      <th>annual_inc</th>\n",
       "      <th>dti</th>\n",
       "      <th>inq_last_6mths</th>\n",
       "      <th>open_acc</th>\n",
       "      <th>revol_bal</th>\n",
       "      <th>revol_util</th>\n",
       "      <th>last_pymnt_amnt</th>\n",
       "      <th>...</th>\n",
       "      <th>earliest_cr_line_Sep-2008</th>\n",
       "      <th>earliest_cr_line_Sep-2009</th>\n",
       "      <th>earliest_cr_line_Sep-2010</th>\n",
       "      <th>earliest_cr_line_Sep-2011</th>\n",
       "      <th>earliest_cr_line_Sep-2012</th>\n",
       "      <th>earliest_cr_line_Sep-2013</th>\n",
       "      <th>earliest_cr_line_Sep-2014</th>\n",
       "      <th>earliest_cr_line_Sep-2015</th>\n",
       "      <th>initial_list_status_w</th>\n",
       "      <th>application_type_Joint App</th>\n",
       "    </tr>\n",
       "  </thead>\n",
       "  <tbody>\n",
       "    <tr>\n",
       "      <th>0</th>\n",
       "      <td>0</td>\n",
       "      <td>-1.250282</td>\n",
       "      <td>0.148665</td>\n",
       "      <td>-0.306948</td>\n",
       "      <td>-1.111719</td>\n",
       "      <td>0.377035</td>\n",
       "      <td>-0.852914</td>\n",
       "      <td>-0.603491</td>\n",
       "      <td>-0.909127</td>\n",
       "      <td>-0.752826</td>\n",
       "      <td>...</td>\n",
       "      <td>0</td>\n",
       "      <td>0</td>\n",
       "      <td>0</td>\n",
       "      <td>0</td>\n",
       "      <td>0</td>\n",
       "      <td>0</td>\n",
       "      <td>0</td>\n",
       "      <td>0</td>\n",
       "      <td>1</td>\n",
       "      <td>0</td>\n",
       "    </tr>\n",
       "    <tr>\n",
       "      <th>1</th>\n",
       "      <td>1</td>\n",
       "      <td>1.164918</td>\n",
       "      <td>-0.268799</td>\n",
       "      <td>-0.164934</td>\n",
       "      <td>-0.211684</td>\n",
       "      <td>3.593066</td>\n",
       "      <td>1.878238</td>\n",
       "      <td>0.226793</td>\n",
       "      <td>-1.339627</td>\n",
       "      <td>-0.640828</td>\n",
       "      <td>...</td>\n",
       "      <td>0</td>\n",
       "      <td>0</td>\n",
       "      <td>0</td>\n",
       "      <td>0</td>\n",
       "      <td>0</td>\n",
       "      <td>0</td>\n",
       "      <td>0</td>\n",
       "      <td>0</td>\n",
       "      <td>1</td>\n",
       "      <td>0</td>\n",
       "    </tr>\n",
       "    <tr>\n",
       "      <th>2</th>\n",
       "      <td>3</td>\n",
       "      <td>-0.471924</td>\n",
       "      <td>1.914538</td>\n",
       "      <td>0.395068</td>\n",
       "      <td>0.613865</td>\n",
       "      <td>2.521056</td>\n",
       "      <td>0.057470</td>\n",
       "      <td>0.247167</td>\n",
       "      <td>0.517673</td>\n",
       "      <td>0.641620</td>\n",
       "      <td>...</td>\n",
       "      <td>0</td>\n",
       "      <td>0</td>\n",
       "      <td>0</td>\n",
       "      <td>0</td>\n",
       "      <td>0</td>\n",
       "      <td>0</td>\n",
       "      <td>0</td>\n",
       "      <td>0</td>\n",
       "      <td>1</td>\n",
       "      <td>0</td>\n",
       "    </tr>\n",
       "    <tr>\n",
       "      <th>3</th>\n",
       "      <td>4</td>\n",
       "      <td>-0.294504</td>\n",
       "      <td>0.033863</td>\n",
       "      <td>-0.605176</td>\n",
       "      <td>-0.731310</td>\n",
       "      <td>-0.694975</td>\n",
       "      <td>-1.217068</td>\n",
       "      <td>-0.334631</td>\n",
       "      <td>0.677573</td>\n",
       "      <td>0.296655</td>\n",
       "      <td>...</td>\n",
       "      <td>0</td>\n",
       "      <td>0</td>\n",
       "      <td>0</td>\n",
       "      <td>0</td>\n",
       "      <td>0</td>\n",
       "      <td>0</td>\n",
       "      <td>0</td>\n",
       "      <td>0</td>\n",
       "      <td>1</td>\n",
       "      <td>0</td>\n",
       "    </tr>\n",
       "    <tr>\n",
       "      <th>4</th>\n",
       "      <td>5</td>\n",
       "      <td>0.626935</td>\n",
       "      <td>-0.857423</td>\n",
       "      <td>1.468223</td>\n",
       "      <td>-0.334940</td>\n",
       "      <td>-0.694975</td>\n",
       "      <td>0.057470</td>\n",
       "      <td>3.150166</td>\n",
       "      <td>1.337673</td>\n",
       "      <td>1.415342</td>\n",
       "      <td>...</td>\n",
       "      <td>0</td>\n",
       "      <td>0</td>\n",
       "      <td>0</td>\n",
       "      <td>0</td>\n",
       "      <td>0</td>\n",
       "      <td>0</td>\n",
       "      <td>0</td>\n",
       "      <td>0</td>\n",
       "      <td>0</td>\n",
       "      <td>0</td>\n",
       "    </tr>\n",
       "  </tbody>\n",
       "</table>\n",
       "<p>5 rows × 891 columns</p>\n",
       "</div>"
      ],
      "text/plain": [
       "   key_0  loan_amnt  int_rate  annual_inc       dti  inq_last_6mths  open_acc  \\\n",
       "0      0  -1.250282  0.148665   -0.306948 -1.111719        0.377035 -0.852914   \n",
       "1      1   1.164918 -0.268799   -0.164934 -0.211684        3.593066  1.878238   \n",
       "2      3  -0.471924  1.914538    0.395068  0.613865        2.521056  0.057470   \n",
       "3      4  -0.294504  0.033863   -0.605176 -0.731310       -0.694975 -1.217068   \n",
       "4      5   0.626935 -0.857423    1.468223 -0.334940       -0.694975  0.057470   \n",
       "\n",
       "   revol_bal  revol_util  last_pymnt_amnt  ...  earliest_cr_line_Sep-2008  \\\n",
       "0  -0.603491   -0.909127        -0.752826  ...                          0   \n",
       "1   0.226793   -1.339627        -0.640828  ...                          0   \n",
       "2   0.247167    0.517673         0.641620  ...                          0   \n",
       "3  -0.334631    0.677573         0.296655  ...                          0   \n",
       "4   3.150166    1.337673         1.415342  ...                          0   \n",
       "\n",
       "   earliest_cr_line_Sep-2009  earliest_cr_line_Sep-2010  \\\n",
       "0                          0                          0   \n",
       "1                          0                          0   \n",
       "2                          0                          0   \n",
       "3                          0                          0   \n",
       "4                          0                          0   \n",
       "\n",
       "   earliest_cr_line_Sep-2011  earliest_cr_line_Sep-2012  \\\n",
       "0                          0                          0   \n",
       "1                          0                          0   \n",
       "2                          0                          0   \n",
       "3                          0                          0   \n",
       "4                          0                          0   \n",
       "\n",
       "   earliest_cr_line_Sep-2013  earliest_cr_line_Sep-2014  \\\n",
       "0                          0                          0   \n",
       "1                          0                          0   \n",
       "2                          0                          0   \n",
       "3                          0                          0   \n",
       "4                          0                          0   \n",
       "\n",
       "   earliest_cr_line_Sep-2015  initial_list_status_w  \\\n",
       "0                          0                      1   \n",
       "1                          0                      1   \n",
       "2                          0                      1   \n",
       "3                          0                      1   \n",
       "4                          0                      0   \n",
       "\n",
       "   application_type_Joint App  \n",
       "0                           0  \n",
       "1                           0  \n",
       "2                           0  \n",
       "3                           0  \n",
       "4                           0  \n",
       "\n",
       "[5 rows x 891 columns]"
      ]
     },
     "execution_count": 55,
     "metadata": {},
     "output_type": "execute_result"
    }
   ],
   "source": [
    "model_df = scaled_features.merge(one_hot_features, on=scaled_features.index)\n",
    "model_df.head()"
   ]
  },
  {
   "cell_type": "code",
   "execution_count": 56,
   "metadata": {},
   "outputs": [],
   "source": [
    "model_features = df.drop('charged_off', axis=1)\n",
    "model_target = df.charged_off"
   ]
  },
  {
   "cell_type": "code",
   "execution_count": 57,
   "metadata": {},
   "outputs": [
    {
     "name": "stdout",
     "output_type": "stream",
     "text": [
      "X_train shape: Obs- 1024184 / col- 22\n",
      "X_test shape: Obs- 256046 / col- 22\n",
      "y_train shape: Obs- 1024184 / col- 0\n",
      "y_test shape: Obs- 256046 / col- 0\n"
     ]
    }
   ],
   "source": [
    "from sklearn.model_selection import train_test_split\n",
    "\n",
    "X_train, X_test, y_train, y_test = train_test_split(model_features, model_target, test_size=0.2, random_state=42)\n",
    "print(\"X_train shape: Obs- {} / col- {}\".format(X_train.shape[0], X_train.shape[1]))\n",
    "print(\"X_test shape: Obs- {} / col- {}\".format(X_test.shape[0], X_test.shape[1]))\n",
    "print(\"y_train shape: Obs- {} / col- {}\".format(y_train.shape[0], 0))\n",
    "print(\"y_test shape: Obs- {} / col- {}\".format(y_test.shape[0], 0))"
   ]
  },
  {
   "cell_type": "code",
   "execution_count": 58,
   "metadata": {},
   "outputs": [],
   "source": [
    "model_numeric_features = X_train.select_dtypes(exclude=['object', 'category']).columns\n",
    "model_categorical_features = X_train.select_dtypes(['object', 'category']).columns"
   ]
  },
  {
   "cell_type": "code",
   "execution_count": 59,
   "metadata": {},
   "outputs": [],
   "source": [
    "from sklearn.pipeline import Pipeline\n",
    "from sklearn.compose import ColumnTransformer\n",
    "from sklearn.preprocessing import OneHotEncoder\n",
    "from sklearn.linear_model import LogisticRegression\n",
    "\n",
    "numeric_transformer = Pipeline(\n",
    "    steps=[\n",
    "        ('scaler', StandardScaler())\n",
    "    ]\n",
    ")\n",
    "\n",
    "categorical_transformer = Pipeline(\n",
    "    steps=[\n",
    "        ('one_hot', OneHotEncoder(handle_unknown='ignore'))\n",
    "    ]\n",
    ")\n",
    "\n",
    "preprocessor = ColumnTransformer(\n",
    "    transformers=[\n",
    "        ('numeric', numeric_transformer, model_numeric_features),\n",
    "        ('categorical', categorical_transformer, model_categorical_features)\n",
    "    ]\n",
    ")\n",
    "\n",
    "clf = Pipeline(steps=[('preprocessor', preprocessor),\n",
    "                      ('classifier', LogisticRegression(solver='liblinear'))])\n",
    "\n",
    "clf.fit(X_train, y_train)\n",
    "clf_preds = clf.predict(X_test)"
   ]
  },
  {
   "cell_type": "code",
   "execution_count": 60,
   "metadata": {},
   "outputs": [
    {
     "name": "stdout",
     "output_type": "stream",
     "text": [
      "[[194597  10202]\n",
      " [ 18646  32601]]\n",
      "              precision    recall  f1-score   support\n",
      "\n",
      "           0       0.91      0.95      0.93    204799\n",
      "           1       0.76      0.64      0.69     51247\n",
      "\n",
      "    accuracy                           0.89    256046\n",
      "   macro avg       0.84      0.79      0.81    256046\n",
      "weighted avg       0.88      0.89      0.88    256046\n",
      "\n",
      "Logistic Regression accuracy:  0.8873327448974012\n"
     ]
    },
    {
     "data": {
      "text/plain": [
       "<sklearn.metrics._plot.confusion_matrix.ConfusionMatrixDisplay at 0x1d991394340>"
      ]
     },
     "execution_count": 60,
     "metadata": {},
     "output_type": "execute_result"
    },
    {
     "data": {
      "image/png": "[encoded data removed]",
      "text/plain": [
       "<Figure size 432x288 with 2 Axes>"
      ]
     },
     "metadata": {
      "needs_background": "light"
     },
     "output_type": "display_data"
    }
   ],
   "source": [
    "from sklearn.metrics import classification_report\n",
    "print(confusion_matrix(y_test,clf_preds))\n",
    "print(classification_report(y_test,clf_preds))\n",
    "print('Logistic Regression accuracy: ', accuracy_score(y_test, clf_preds)) \n",
    "plot_confusion_matrix(clf, X_test,y_test,cmap= 'Blues',values_format=\"d\", display_labels = ['Fully Paid', 'Charged Off'])"
   ]
  },
  {
   "cell_type": "code",
   "execution_count": 61,
   "metadata": {},
   "outputs": [],
   "source": [
    "from sklearn.tree import DecisionTreeClassifier #import library\n",
    "\n",
    "dt = Pipeline(steps=[('preprocessor', preprocessor),\n",
    "                      ('classifier', DecisionTreeClassifier(criterion='entropy', max_depth=3, random_state=0))])\n",
    "dt.fit(X_train, y_train)\n",
    "dt_preds = dt.predict(X_test)"
   ]
  },
  {
   "cell_type": "code",
   "execution_count": 62,
   "metadata": {},
   "outputs": [
    {
     "name": "stdout",
     "output_type": "stream",
     "text": [
      "[[202035   2764]\n",
      " [ 32533  18714]]\n",
      "              precision    recall  f1-score   support\n",
      "\n",
      "           0       0.86      0.99      0.92    204799\n",
      "           1       0.87      0.37      0.51     51247\n",
      "\n",
      "    accuracy                           0.86    256046\n",
      "   macro avg       0.87      0.68      0.72    256046\n",
      "weighted avg       0.86      0.86      0.84    256046\n",
      "\n",
      "Decision Tree accuracy:  0.862145864414988\n"
     ]
    },
    {
     "data": {
      "text/plain": [
       "<sklearn.metrics._plot.confusion_matrix.ConfusionMatrixDisplay at 0x1d989848d00>"
      ]
     },
     "execution_count": 62,
     "metadata": {},
     "output_type": "execute_result"
    },
    {
     "data": {
      "image/png": "[encoded data removed]",
      "text/plain": [
       "<Figure size 432x288 with 2 Axes>"
      ]
     },
     "metadata": {
      "needs_background": "light"
     },
     "output_type": "display_data"
    }
   ],
   "source": [
    "print(confusion_matrix(y_test,dt_preds))\n",
    "print(classification_report(y_test,dt_preds))\n",
    "print('Decision Tree accuracy: ', accuracy_score(y_test, dt_preds)) \n",
    "plot_confusion_matrix(dt, X_test,y_test,cmap= 'Blues',values_format=\"d\", display_labels = ['Fully Paid', 'Charged Off'])"
   ]
  },
  {
   "cell_type": "code",
   "execution_count": 63,
   "metadata": {},
   "outputs": [],
   "source": [
    "from sklearn.ensemble import RandomForestClassifier\n",
    "\n",
    "clf_random = Pipeline(steps=[('preprocessor', preprocessor),\n",
    "                      ('classifier', RandomForestClassifier(max_depth = 15,             \n",
    "                                  max_features = 10, \n",
    "                                  min_samples_split = 8, \n",
    "                                  n_estimators = 100))])\n",
    "clf_random.fit(X_train, y_train)\n",
    "random_preds = clf_random.predict(X_test)"
   ]
  },
  {
   "cell_type": "code",
   "execution_count": 64,
   "metadata": {},
   "outputs": [
    {
     "name": "stdout",
     "output_type": "stream",
     "text": [
      "[[204799      0]\n",
      " [ 51247      0]]\n",
      "              precision    recall  f1-score   support\n",
      "\n",
      "           0       0.80      1.00      0.89    204799\n",
      "           1       0.00      0.00      0.00     51247\n",
      "\n",
      "    accuracy                           0.80    256046\n",
      "   macro avg       0.40      0.50      0.44    256046\n",
      "weighted avg       0.64      0.80      0.71    256046\n",
      "\n",
      "Random Forest accuracy:  0.7998523702772158\n"
     ]
    },
    {
     "data": {
      "text/plain": [
       "<sklearn.metrics._plot.confusion_matrix.ConfusionMatrixDisplay at 0x1d989f1fb20>"
      ]
     },
     "execution_count": 64,
     "metadata": {},
     "output_type": "execute_result"
    },
    {
     "data": {
      "image/png": "[encoded data removed]",
      "text/plain": [
       "<Figure size 432x288 with 2 Axes>"
      ]
     },
     "metadata": {
      "needs_background": "light"
     },
     "output_type": "display_data"
    }
   ],
   "source": [
    "print(confusion_matrix(y_test,random_preds))\n",
    "print(classification_report(y_test,random_preds))\n",
    "print('Random Forest accuracy: ', accuracy_score(y_test, random_preds)) \n",
    "plot_confusion_matrix(clf_random, X_test,y_test,cmap= 'Blues',values_format=\"d\", display_labels = ['Fully Paid', 'Charged Off'])"
   ]
  },
  {
   "cell_type": "code",
   "execution_count": 65,
   "metadata": {},
   "outputs": [],
   "source": [
    "import xgboost as xgb\n",
    "\n",
    "clf_xgb = Pipeline(steps=[('preprocessor', preprocessor),\n",
    "                      ('classifier', xgb.XGBClassifier())])\n",
    "clf_xgb.fit(X_train, y_train)\n",
    "xgb_preds = clf_xgb.predict(X_test)"
   ]
  },
  {
   "cell_type": "code",
   "execution_count": 66,
   "metadata": {},
   "outputs": [
    {
     "name": "stdout",
     "output_type": "stream",
     "text": [
      "[[197690   7109]\n",
      " [ 15150  36097]]\n",
      "              precision    recall  f1-score   support\n",
      "\n",
      "           0       0.93      0.97      0.95    204799\n",
      "           1       0.84      0.70      0.76     51247\n",
      "\n",
      "    accuracy                           0.91    256046\n",
      "   macro avg       0.88      0.83      0.86    256046\n",
      "weighted avg       0.91      0.91      0.91    256046\n",
      "\n"
     ]
    },
    {
     "data": {
      "text/plain": [
       "<sklearn.metrics._plot.confusion_matrix.ConfusionMatrixDisplay at 0x1d92e6f49a0>"
      ]
     },
     "execution_count": 66,
     "metadata": {},
     "output_type": "execute_result"
    },
    {
     "data": {
      "image/png": "[encoded data removed]",
      "text/plain": [
       "<Figure size 432x288 with 2 Axes>"
      ]
     },
     "metadata": {
      "needs_background": "light"
     },
     "output_type": "display_data"
    }
   ],
   "source": [
    "print(confusion_matrix(y_test,xgb_preds))\n",
    "print(classification_report(y_test,xgb_preds))\n",
    "plot_confusion_matrix(clf_xgb, X_test,y_test,cmap= 'Blues',values_format=\"d\", display_labels = ['Fully Paid', 'Charged Off'])"
   ]
  },
  {
   "cell_type": "code",
   "execution_count": 67,
   "metadata": {},
   "outputs": [],
   "source": [
    "from sklearn.utils import resample\n",
    "\n",
    "df_majority = df[df['charged_off']==0] #Fully Paid\n",
    "df_minority = df[df['charged_off']==1] #Charged Off"
   ]
  },
  {
   "cell_type": "code",
   "execution_count": 68,
   "metadata": {},
   "outputs": [
    {
     "data": {
      "text/plain": [
       "charged_off\n",
       "1    1023615\n",
       "0    1023615\n",
       "dtype: int64"
      ]
     },
     "execution_count": 68,
     "metadata": {},
     "output_type": "execute_result"
    }
   ],
   "source": [
    "df_minority_upsampled = resample(df_minority, \n",
    "                                 replace=True,     # sample with replacement\n",
    "                                 n_samples=len(df_majority),    # to match majority class\n",
    "                                 random_state=1234) # reproducible results\n",
    " \n",
    "# Combine majority class with upsampled minority class\n",
    "df_upsampled = pd.concat([df_majority, df_minority_upsampled])\n",
    " \n",
    "# Display new class counts\n",
    "df_upsampled.value_counts('charged_off')"
   ]
  },
  {
   "cell_type": "code",
   "execution_count": 69,
   "metadata": {},
   "outputs": [],
   "source": [
    "features = df_upsampled.drop('charged_off', axis=1)\n",
    "target = df_upsampled.charged_off"
   ]
  },
  {
   "cell_type": "code",
   "execution_count": 70,
   "metadata": {},
   "outputs": [
    {
     "name": "stdout",
     "output_type": "stream",
     "text": [
      "X_train shape: Obs- 1637784 / col- 22\n",
      "X_test shape: Obs- 409446 / col- 22\n",
      "y_train shape: Obs- 1637784 / col- 0\n",
      "y_test shape: Obs- 409446 / col- 0\n"
     ]
    }
   ],
   "source": [
    "# Splitting the dataset into the Training set and Test set\n",
    "X_trains, X_tests, y_trains, y_tests = train_test_split(features, target, test_size=0.2, random_state=42)\n",
    "print(\"X_train shape: Obs- {} / col- {}\".format(X_trains.shape[0], X_trains.shape[1]))\n",
    "print(\"X_test shape: Obs- {} / col- {}\".format(X_tests.shape[0], X_tests.shape[1]))\n",
    "print(\"y_train shape: Obs- {} / col- {}\".format(y_trains.shape[0], 0))\n",
    "print(\"y_test shape: Obs- {} / col- {}\".format(y_tests.shape[0], 0))"
   ]
  },
  {
   "cell_type": "code",
   "execution_count": 71,
   "metadata": {},
   "outputs": [],
   "source": [
    "model_numeric_feature = X_trains.select_dtypes(exclude=['object', 'category']).columns\n",
    "model_categorical_feature = X_trains.select_dtypes(['object', 'category']).columns"
   ]
  },
  {
   "cell_type": "code",
   "execution_count": 72,
   "metadata": {
    "scrolled": false
   },
   "outputs": [],
   "source": [
    "numeric_transformer = Pipeline(\n",
    "    steps=[\n",
    "        ('scaler', StandardScaler())\n",
    "    ]\n",
    ")\n",
    "\n",
    "categorical_transformer = Pipeline(\n",
    "    steps=[\n",
    "        ('one_hot', OneHotEncoder(handle_unknown='ignore'))\n",
    "    ]\n",
    ")\n",
    "\n",
    "preprocessor = ColumnTransformer(\n",
    "    transformers=[\n",
    "        ('numeric', numeric_transformer, model_numeric_feature),\n",
    "        ('categorical', categorical_transformer, model_categorical_feature)\n",
    "    ]\n",
    ")\n",
    "\n",
    "clf_lgt = Pipeline(steps=[('preprocessor', preprocessor),\n",
    "                      ('classifier', LogisticRegression(solver='liblinear'))])\n",
    "\n",
    "clf_lgt.fit(X_trains, y_trains)\n",
    "clf_pred = clf.predict(X_tests)"
   ]
  },
  {
   "cell_type": "code",
   "execution_count": 73,
   "metadata": {
    "scrolled": true
   },
   "outputs": [
    {
     "name": "stdout",
     "output_type": "stream",
     "text": [
      "[[194400  10180]\n",
      " [ 74625 130241]]\n",
      "              precision    recall  f1-score   support\n",
      "\n",
      "           0       0.72      0.95      0.82    204580\n",
      "           1       0.93      0.64      0.75    204866\n",
      "\n",
      "    accuracy                           0.79    409446\n",
      "   macro avg       0.83      0.79      0.79    409446\n",
      "weighted avg       0.83      0.79      0.79    409446\n",
      "\n",
      "Logistic Regression accuracy:  0.7928786702031525\n"
     ]
    },
    {
     "data": {
      "text/plain": [
       "<sklearn.metrics._plot.confusion_matrix.ConfusionMatrixDisplay at 0x1d92dd94430>"
      ]
     },
     "execution_count": 73,
     "metadata": {},
     "output_type": "execute_result"
    },
    {
     "data": {
      "image/png": "[encoded data removed]",
      "text/plain": [
       "<Figure size 432x288 with 2 Axes>"
      ]
     },
     "metadata": {
      "needs_background": "light"
     },
     "output_type": "display_data"
    }
   ],
   "source": [
    "print(confusion_matrix(y_tests,clf_pred))\n",
    "print(classification_report(y_tests,clf_pred))\n",
    "print('Logistic Regression accuracy: ', accuracy_score(y_tests, clf_pred)) \n",
    "plot_confusion_matrix(clf_lgt, X_tests,y_tests,cmap= 'Blues',values_format=\"d\", display_labels = ['Fully Paid', 'Charged Off'])"
   ]
  },
  {
   "cell_type": "code",
   "execution_count": 80,
   "metadata": {},
   "outputs": [],
   "source": [
    "clf_dt = Pipeline(steps=[('preprocessor', preprocessor),\n",
    "                      ('classifier', DecisionTreeClassifier(criterion='entropy', max_depth=3, random_state=0))])\n",
    "clf_dt.fit(X_trains, y_trains)\n",
    "dt_pred = clf_dt.predict(X_tests)"
   ]
  },
  {
   "cell_type": "code",
   "execution_count": 81,
   "metadata": {},
   "outputs": [
    {
     "name": "stdout",
     "output_type": "stream",
     "text": [
      "[[162720  41860]\n",
      " [ 23067 181799]]\n",
      "              precision    recall  f1-score   support\n",
      "\n",
      "           0       0.88      0.80      0.83    204580\n",
      "           1       0.81      0.89      0.85    204866\n",
      "\n",
      "    accuracy                           0.84    409446\n",
      "   macro avg       0.84      0.84      0.84    409446\n",
      "weighted avg       0.84      0.84      0.84    409446\n",
      "\n",
      "Decision Tree accuracy:  0.8414271967487776\n"
     ]
    },
    {
     "data": {
      "text/plain": [
       "<sklearn.metrics._plot.confusion_matrix.ConfusionMatrixDisplay at 0x1d919c1fb80>"
      ]
     },
     "execution_count": 81,
     "metadata": {},
     "output_type": "execute_result"
    },
    {
     "data": {
      "image/png": "[encoded data removed]",
      "text/plain": [
       "<Figure size 432x288 with 2 Axes>"
      ]
     },
     "metadata": {
      "needs_background": "light"
     },
     "output_type": "display_data"
    }
   ],
   "source": [
    "print(confusion_matrix(y_tests,dt_pred))\n",
    "print(classification_report(y_tests,dt_pred))\n",
    "print('Decision Tree accuracy: ', accuracy_score(y_tests, dt_pred)) \n",
    "plot_confusion_matrix(clf_dt, X_tests,y_tests,cmap= 'Blues',values_format=\"d\", display_labels = ['Fully Paid', 'Charged Off'])"
   ]
  },
  {
   "cell_type": "code",
   "execution_count": 74,
   "metadata": {},
   "outputs": [],
   "source": [
    "clf_rf = Pipeline(steps=[('preprocessor', preprocessor),\n",
    "                      ('classifier', RandomForestClassifier(max_depth = 15,             \n",
    "                                  max_features = 10, \n",
    "                                  min_samples_split = 8, \n",
    "                                  n_estimators = 100))])\n",
    "clf_rf.fit(X_trains, y_trains)\n",
    "rf_preds = clf_rf.predict(X_tests)"
   ]
  },
  {
   "cell_type": "code",
   "execution_count": 75,
   "metadata": {},
   "outputs": [
    {
     "name": "stdout",
     "output_type": "stream",
     "text": [
      "[[164322  40258]\n",
      " [ 34492 170374]]\n",
      "              precision    recall  f1-score   support\n",
      "\n",
      "           0       0.83      0.80      0.81    204580\n",
      "           1       0.81      0.83      0.82    204866\n",
      "\n",
      "    accuracy                           0.82    409446\n",
      "   macro avg       0.82      0.82      0.82    409446\n",
      "weighted avg       0.82      0.82      0.82    409446\n",
      "\n",
      "Random Forest accuracy:  0.8174362431187507\n"
     ]
    },
    {
     "data": {
      "text/plain": [
       "<sklearn.metrics._plot.confusion_matrix.ConfusionMatrixDisplay at 0x1d98e8fa490>"
      ]
     },
     "execution_count": 75,
     "metadata": {},
     "output_type": "execute_result"
    },
    {
     "data": {
      "image/png": "[encoded data removed]",
      "text/plain": [
       "<Figure size 432x288 with 2 Axes>"
      ]
     },
     "metadata": {
      "needs_background": "light"
     },
     "output_type": "display_data"
    }
   ],
   "source": [
    "print(confusion_matrix(y_tests,rf_preds))\n",
    "print(classification_report(y_tests,rf_preds))\n",
    "print('Random Forest accuracy: ', accuracy_score(y_tests, rf_preds)) \n",
    "plot_confusion_matrix(clf_rf, X_tests,y_tests,cmap= 'Blues',values_format=\"d\", display_labels = ['Fully Paid', 'Charged Off'])"
   ]
  },
  {
   "cell_type": "code",
   "execution_count": 76,
   "metadata": {},
   "outputs": [],
   "source": [
    "clf_xgboost = Pipeline(steps=[('preprocessor', preprocessor),\n",
    "                      ('classifier', xgb.XGBClassifier())])\n",
    "clf_xgboost.fit(X_trains, y_trains)\n",
    "xgboost_preds = clf_xgboost.predict(X_tests)"
   ]
  },
  {
   "cell_type": "code",
   "execution_count": 77,
   "metadata": {},
   "outputs": [
    {
     "name": "stdout",
     "output_type": "stream",
     "text": [
      "[[172957  31623]\n",
      " [ 11421 193445]]\n",
      "              precision    recall  f1-score   support\n",
      "\n",
      "           0       0.94      0.85      0.89    204580\n",
      "           1       0.86      0.94      0.90    204866\n",
      "\n",
      "    accuracy                           0.89    409446\n",
      "   macro avg       0.90      0.89      0.89    409446\n",
      "weighted avg       0.90      0.89      0.89    409446\n",
      "\n"
     ]
    },
    {
     "data": {
      "text/plain": [
       "<sklearn.metrics._plot.confusion_matrix.ConfusionMatrixDisplay at 0x1d9934df880>"
      ]
     },
     "execution_count": 77,
     "metadata": {},
     "output_type": "execute_result"
    },
    {
     "data": {
      "image/png": "[encoded data removed]",
      "text/plain": [
       "<Figure size 432x288 with 2 Axes>"
      ]
     },
     "metadata": {
      "needs_background": "light"
     },
     "output_type": "display_data"
    }
   ],
   "source": [
    "print(confusion_matrix(y_tests,xgboost_preds))\n",
    "print(classification_report(y_tests,xgboost_preds))\n",
    "plot_confusion_matrix(clf_xgboost, X_tests,y_tests,cmap= 'Blues',values_format=\"d\", display_labels = ['Fully Paid', 'Charged Off'])"
   ]
  },
  {
   "cell_type": "code",
   "execution_count": null,
   "metadata": {},
   "outputs": [],
   "source": []
  }
 ],
 "metadata": {
  "kernelspec": {
   "display_name": "Python 3",
   "language": "python",
   "name": "python3"
  },
  "language_info": {
   "codemirror_mode": {
    "name": "ipython",
    "version": 3
   },
   "file_extension": ".py",
   "mimetype": "text/x-python",
   "name": "python",
   "nbconvert_exporter": "python",
   "pygments_lexer": "ipython3",
   "version": "3.8.5"
  }
 },
 "nbformat": 4,
 "nbformat_minor": 4
}
